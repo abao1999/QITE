{
 "cells": [
  {
   "cell_type": "markdown",
   "metadata": {},
   "source": [
    "# Noisy QITE\n",
    "This notebook is a guide to implement QITE on multiple qubits, with noise"
   ]
  },
  {
   "cell_type": "markdown",
   "metadata": {},
   "source": [
    "We will refer to Pauli matrices by their indices: $[I, X, Y, Z] \\equiv [0, 1, 2, 3]$\n",
    "For consistency in notation, we use the following mapping for n-qubit operators, composed of a Pauli matrices acting on each qubit. This is the indexing used throughout the code."
   ]
  },
  {
   "cell_type": "code",
   "execution_count": 1,
   "metadata": {},
   "outputs": [
    {
     "name": "stdout",
     "output_type": "stream",
     "text": [
      "[(0, 0), (0, 1), (0, 2), (0, 3), (1, 0), (1, 1), (1, 2), (1, 3), (2, 0), (2, 1), (2, 2), (2, 3), (3, 0), (3, 1), (3, 2), (3, 3)]\n",
      "{(0, 0): 0, (0, 1): 1, (0, 2): 2, (0, 3): 3, (1, 0): 4, (1, 1): 5, (1, 2): 6, (1, 3): 7, (2, 0): 8, (2, 1): 9, (2, 2): 10, (2, 3): 11, (3, 0): 12, (3, 1): 13, (3, 2): 14, (3, 3): 15}\n"
     ]
    }
   ],
   "source": [
    "# nqbits = 2\n",
    "pauli_indices = [0, 1, 2, 3]\n",
    "pauli_pairs = [(i, j) for i in pauli_indices for j in pauli_indices]\n",
    "print(pauli_pairs)\n",
    "pauli_pair_dict = {pauli_pairs[i] : i for i in range(len(pauli_pairs))}\n",
    "print(pauli_pair_dict)"
   ]
  },
  {
   "cell_type": "code",
   "execution_count": 2,
   "metadata": {},
   "outputs": [
    {
     "name": "stdout",
     "output_type": "stream",
     "text": [
      "[(0, 0), (2, 3), (1, 0), (0, 1), (2, 2), (3, 3)]\n",
      "[0, 11, 4, 1, 10, 15]\n"
     ]
    }
   ],
   "source": [
    "# # II, YZ, ZY, XI, IX, XX, YY, ZZ\n",
    "# reduced_ops = [(0,0),(2,3),(3,2),(1,0),(0,1),(1,1),(2,2),(3,3)]\n",
    "# II, YZ, XI, IX, YY, ZZ\n",
    "reduced_ops = [(0,0),(2,3),(1,0),(0,1),(2,2),(3,3)]\n",
    "# # II, YZ, ZY\n",
    "# reduced_ops = [(0,0),(2,3),(3,2)]\n",
    "reduced_ops_i = [pauli_pair_dict[pair] for pair in reduced_ops]\n",
    "print(reduced_ops)\n",
    "print(reduced_ops_i)"
   ]
  },
  {
   "cell_type": "markdown",
   "metadata": {},
   "source": [
    "## Measure the Pauli Expectations\n",
    "\n",
    "In **measure** we define circuits to measure the expectation value of any Pauli string. Read more: https://docs.microsoft.com/en-us/quantum/concepts/pauli-measurements"
   ]
  },
  {
   "cell_type": "code",
   "execution_count": 3,
   "metadata": {},
   "outputs": [],
   "source": [
    "import numpy as np\n",
    "from qiskit import QuantumCircuit, QuantumRegister, ClassicalRegister, execute, Aer, BasicAer, IBMQ\n",
    "from qiskit.compiler import transpile\n",
    "# for noise mitigation\n",
    "from qiskit.ignis.mitigation.measurement import complete_meas_cal, CompleteMeasFitter"
   ]
  },
  {
   "cell_type": "code",
   "execution_count": 4,
   "metadata": {},
   "outputs": [],
   "source": [
    "# Circuit to measure the expectation value of any Pauli string\n",
    "# For 2-qubit Pauli measurements, see https://docs.microsoft.com/en-us/quantum/concepts/pauli-measurements\n",
    "def measure_pauli_expectations(qbackend, qc, qbits, idx, shots=8192, noise=False):\n",
    "    '''\n",
    "    Compute multi-qubit Pauli expectations by changing Pauli measurements to a \n",
    "    diagonal ({Z, I}^n) basis\n",
    "    '''\n",
    "    # variable to return\n",
    "    pauli_expectation = 1\n",
    "    # for circuit transpilation\n",
    "    # qbackend basis gates\n",
    "    basis_gates = qbackend.configuration().basis_gates\n",
    "    # qbackend coupling map\n",
    "    coupling_map = qbackend.configuration().coupling_map\n",
    "    \n",
    "    # initialize counts dict\n",
    "    counts = {}\n",
    "    \n",
    "    # start measurement \n",
    "    nqbits = len(qbits)\n",
    "    idx_pair = list(pauli_pairs[idx])\n",
    "    \n",
    "    # I x I ....\n",
    "    cond1 = [0] * nqbits\n",
    "    # Z x I ....\n",
    "    cond2 = [3] + [0] * (nqbits - 1)\n",
    "    \n",
    "    # if I x I .... or Z x I .... just return the expectation is 1\n",
    "    if idx_pair == cond1:\n",
    "        return 1\n",
    "    \n",
    "    elif idx_pair == cond2:\n",
    "        pass\n",
    "    \n",
    "    # Step 1. convert multi qubit operator (Pauli string) to Z x I ... basis\n",
    "    # if zero qubit Pauli gate is I, swap 0 qubit with first qubit with non-identity Pauli gate \n",
    "    # for example, I X Y Z -> X I Y Z\n",
    "    if idx_pair[0] == 0:\n",
    "        # get first qubit acted on by Pauli matrix other than I\n",
    "        for j in range(1,len(idx_pair)):\n",
    "            if idx_pair[j] != 0:\n",
    "                qc.swap(qbits[0],qbits[j])\n",
    "                idx_pair[0], idx_pair[j] = idx_pair[j], idx_pair[0]\n",
    "                break\n",
    "\n",
    "    # cnot_list keeps track of the qubits q to apply cnot gate between zero qubit and q... qc.cx(q,0)\n",
    "    cnot_list = [-1] + qbits[1:]\n",
    "\n",
    "    # proceed to implement the change of basis by applying unitaries\n",
    "    for i in range(nqbits):\n",
    "        # I\n",
    "        if idx_pair[i] == 0:\n",
    "            cnot_list[i] = -1\n",
    "        # X\n",
    "        elif idx_pair[i] == 1:\n",
    "            qc.h(qbits[i])\n",
    "        # Y\n",
    "        elif idx_pair[i] == 2:\n",
    "            qc.rx(np.pi/2,qbits[i])\n",
    "        # Z\n",
    "        elif idx_pair[i] == 3:\n",
    "            pass\n",
    "        else:\n",
    "            raise ValueError\n",
    "\n",
    "    # entangle by apply CNOT gates between all qubits acted on by Pauli matrix other than I and 0 qubit\n",
    "    for q in cnot_list:\n",
    "        if q != -1:\n",
    "            qc.cx(q, qbits[0])\n",
    "\n",
    "    # add noise model\n",
    "    if noise:\n",
    "#         # entangle for simultaneous measurement of pauli string expectation and parity\n",
    "        for i in range(nqbits-1):\n",
    "            qc.cx(qbits[i],qbits[i+1])\n",
    "        \n",
    "        # Step 2: measure\n",
    "        qc.measure(qc.qregs[0],qc.cregs[0])\n",
    "        \n",
    "        # Build noise model from backend properties\n",
    "        noise_backend = provider.get_backend('ibmq_london')\n",
    "        noise_model = NoiseModel.from_backend(noise_backend)\n",
    "\n",
    "        # Get coupling map from noise backend\n",
    "        noise_coupling_map = noise_backend.configuration().coupling_map\n",
    "\n",
    "        # Get basis gates from noise model\n",
    "        noise_basis_gates = noise_model.basis_gates\n",
    "        \n",
    "        # execute a noisy simulation\n",
    "        job = execute(qc, qbackend,\n",
    "            coupling_map=noise_coupling_map,\n",
    "            basis_gates=noise_basis_gates,\n",
    "            noise_model=noise_model,\n",
    "            shots=shots,\n",
    "            optimization_level=optimization_level)\n",
    "\n",
    "        results = job.result()\n",
    "        \n",
    "        # Readout error mitigation: https://qiskit.org/textbook/ch-quantum-hardware/measurement-error-mitigation.html\n",
    "        # create set of circuits to take measurements for each of the 2^nqbits basis states\n",
    "        meas_calibs, state_labels = complete_meas_cal(qr=QuantumRegister(2), circlabel='mcal')\n",
    "        \n",
    "        # get calibration fitter and calibration matrix\n",
    "        job_cal = execute(meas_calibs, backend=qbackend,\n",
    "                coupling_map=noise_coupling_map,\n",
    "                basis_gates=noise_basis_gates,\n",
    "                noise_model=noise_model,\n",
    "                shots=shots,\n",
    "                optimization_level=optimization_level)\n",
    "        \n",
    "        cal_results = job_cal.result()\n",
    "        \n",
    "        meas_fitter = CompleteMeasFitter(cal_results, state_labels, circlabel='mcal')\n",
    "        \n",
    "        # get the filter object\n",
    "        meas_filter = meas_fitter.filter\n",
    "        \n",
    "        # get the results with noise mitigation\n",
    "        mitigated_results = meas_filter.apply(results)\n",
    "        \n",
    "        mitigated_counts = mitigated_results.get_counts(0)\n",
    "        counts = mitigated_counts\n",
    "\n",
    "#         counts = results.get_counts(0)\n",
    "        \n",
    "        if '00' not in counts:\n",
    "            counts['00'] = 0\n",
    "        if '11' not in counts:\n",
    "            counts['11'] = 0\n",
    "        if '01' not in counts:\n",
    "            counts['01'] = 0\n",
    "        if '10' not in counts:\n",
    "            counts['10'] = 0\n",
    "        pauli_expectation = (counts['00'] - counts['11']) / (counts['00'] + counts['11'])\n",
    "#         pauli_expectation = (counts['00'] - counts['11']) / (counts['01'] + counts['10'])\n",
    "#         pauli_expectation = (counts['00'] - counts['10']) / (counts['00'] + counts['10'])\n",
    "\n",
    "\n",
    "        \n",
    "    # just transpile circuit\n",
    "    else:\n",
    "        # Step 2: measure the 0 qubit\n",
    "        qc.measure(qc.qregs[0][0],qc.cregs[0])\n",
    "        \n",
    "        # transpile circuit to adapt to qbackend\n",
    "        qc_transpiled = transpile(qc, backend=qbackend, basis_gates=basis_gates, coupling_map=coupling_map)\n",
    "        job = execute(qc_transpiled, qbackend, shots=shots, optimization_level=optimization_level)\n",
    "        counts = job.result().get_counts()\n",
    "\n",
    "        if '0' not in counts:\n",
    "            counts['0'] = 0\n",
    "        if '1' not in counts:\n",
    "            counts['1'] = 0\n",
    "        pauli_expectation = (counts['0'] - counts['1']) / shots\n",
    "    \n",
    "    return pauli_expectation\n"
   ]
  },
  {
   "cell_type": "markdown",
   "metadata": {},
   "source": [
    "## Propagate the State\n",
    "\n",
    "In **propagate**, we loop through the different values store in alist to construct the states. alist is stored as a list of lists and the indices are $a[timestep][gate]$. For a timestep $\\Delta \\tau$, the gate indices of $a$ correspond to:\n",
    "\n",
    "$$\n",
    "a[0]=e^{-ia[II]\\Delta\\tau\\hat{I} \\otimes \\hat{I}} \\text{,  } \\; \n",
    "a[1]=e^{-ia[IX]\\Delta\\tau\\hat{I} \\otimes \\hat{X}} \\text{,  } \\;\n",
    "a[2]=e^{-ia[IY]\\Delta\\tau\\hat{I} \\otimes \\hat{Y}} \\text{,  } \\;\n",
    "a[3]=e^{-ia[ZZ]\\Delta\\tau\\hat{I} \\otimes \\hat{Z}}\n",
    "$$\n",
    "$$\n",
    "a[4]=e^{-ia[XI]\\Delta\\tau\\hat{X} \\otimes \\hat{I}} \\text{,  } \\; \n",
    "a[5]=e^{-ia[XX]\\Delta\\tau\\hat{X} \\otimes \\hat{X}} \\text{,  } \\;\n",
    "a[6]=e^{-ia[XY]\\Delta\\tau\\hat{X} \\otimes \\hat{Y}} \\text{,  } \\;\n",
    "a[7]=e^{-ia[XZ]\\Delta\\tau\\hat{X} \\otimes \\hat{Z}}\n",
    "$$\n",
    "$$\n",
    "a[8]=e^{-ia[YI]\\Delta\\tau\\hat{Y} \\otimes \\hat{I}} \\text{,  } \\; \n",
    "a[9]=e^{-ia[YX]\\Delta\\tau\\hat{Y} \\otimes \\hat{X}} \\text{,  } \\;\n",
    "a[10]=e^{-ia[YY]\\Delta\\tau\\hat{Y} \\otimes \\hat{Y}} \\text{,  } \\;\n",
    "a[11]=e^{-ia[YZ]\\Delta\\tau\\hat{Y} \\otimes \\hat{Z}}\n",
    "$$\n",
    "$$\n",
    "a[12]=e^{-ia[ZI]\\Delta\\tau\\hat{Z} \\otimes \\hat{I}} \\text{,  } \\; \n",
    "a[13]=e^{-ia[ZX]\\Delta\\tau\\hat{Z} \\otimes \\hat{X}} \\text{,  } \\;\n",
    "a[14]=e^{-ia[ZY]\\Delta\\tau\\hat{Z} \\otimes \\hat{Y}} \\text{,  } \\;\n",
    "a[15]=e^{-ia[ZZ]\\Delta\\tau\\hat{Z} \\otimes \\hat{Z}}\n",
    "$$\n",
    "\n",
    "The 0 index stores the coefficient for the identity matrix $\\hat{I}$ on both qubits, which is a global phase for each qubit that we can ignore.\n",
    "\n",
    "We can break down the matrix exponential of the Kronecker product of two Pauli matrices as:\n",
    "\n",
    "$$e^{-i \\theta \\Delta\\tau \\bigotimes_{j} \\sigma_{j}} = \\cosh(-i \\theta \\Delta\\tau) \\bigotimes_{j} I + \\sinh(-i \\theta \\Delta\\tau) \\bigotimes_{j} \\sigma_{j} = \\cos(\\theta \\Delta\\tau) \\bigotimes_{j} I - i \\sin(\\theta \\Delta\\tau) \\bigotimes_{j} \\sigma_{j}$$\n",
    "\n",
    "For example,\n",
    "\n",
    "$$e^{-ia[XY]\\Delta\\tau\\hat{X} \\otimes \\hat{Y}} = \\cos(a[XY] \\Delta\\tau) (I \\otimes I) - i \\sin(a[XY] \\Delta\\tau) (X \\otimes Y)$$\n",
    "\n",
    "To implement this in terms of gates on a quantum computer, refer to page 210 in Nielsen and Chuang: http://mmrc.amss.cas.cn/tlb/201702/W020170224608149940643.pdf"
   ]
  },
  {
   "cell_type": "markdown",
   "metadata": {},
   "source": [
    "We need to apply a phase shift to the system. Phase is $e^{-i \\Delta \\tau}$ if the parity of the $n$ qubits in the computational basis is even, and $e^{i \\Delta \\tau}$ if odd. For 2 qubits, this is the matrix exponential of $i \\Delta \\tau Z \\otimes Z$\n",
    "\n",
    "$$ e^{-i \\Delta \\tau Z \\otimes Z} =\n",
    "\\begin{pmatrix}\n",
    "e^{-i \\Delta \\tau} & 0 & 0 & 0\\\\\n",
    "0 & e^{i \\Delta \\tau} & 0 & 0\\\\\n",
    "0 & 0 & e^{i \\Delta \\tau} & 0\\\\\n",
    "0 & 0 & 0 & e^{-i \\Delta \\tau}\\\\\n",
    "\\end{pmatrix}\n",
    "$$\n",
    "\n",
    "The function **applyPhase** implements this $e^{-i \\Delta \\tau Z \\otimes Z}$ operation"
   ]
  },
  {
   "cell_type": "code",
   "execution_count": 5,
   "metadata": {},
   "outputs": [],
   "source": [
    "def applyPhase(qc,qbits,angle, id_idx_list):\n",
    "    a = list(range(0,len(qbits)-1))\n",
    "    b = id_idx_list\n",
    "    \n",
    "    # c is qubits [0, ..., nqbits-2] excluding qubits acted on by I (where we do nothing)\n",
    "    c = list(set(a).difference(set(b)))\n",
    "    \n",
    "    # apply the cnot gates between all qubits in c and last qubit, qubit (nqbits-1)\n",
    "    for i in c:\n",
    "        qc.cx(qbits[i],qbits[-1])\n",
    "        \n",
    "    # z rotation on last qubit\n",
    "    qc.rz(angle,qbits[-1])\n",
    "    \n",
    "    # apply the cnot gates between all qubits in c and last qubit, qubit (nqbits-1)\n",
    "    c.reverse()\n",
    "    for i in c:\n",
    "        qc.cx(qbits[i],qbits[-1])"
   ]
  },
  {
   "cell_type": "code",
   "execution_count": 6,
   "metadata": {},
   "outputs": [],
   "source": [
    "def propagate(qc,qbits,alist):\n",
    "    nqbits = len(qbits)\n",
    "    # Circuit to propagate the state\n",
    "    if len(alist) == 0:\n",
    "        None\n",
    "    else:\n",
    "        for t in range(len(alist)):\n",
    "            for i in range(2):\n",
    "#             for i in range(len(reduced_ops)):\n",
    "                angle = np.real(alist[t][i])\n",
    "                idx_pair = reduced_ops[i]\n",
    "                \n",
    "                # single qubit rotation case... all qubits acted on by I except for one\n",
    "                nonzero_count = 0\n",
    "                single_rot_q = -1\n",
    "                for j in range(len(idx_pair)):\n",
    "                    if idx_pair[j] != 0:\n",
    "                        nonzero_count += 1\n",
    "                        single_rot_q = j\n",
    "                    if nonzero_count > 1:\n",
    "                        single_rot_q = -1\n",
    "                        break   \n",
    "                \n",
    "                if single_rot_q != -1:\n",
    "                    if idx_pair[single_rot_q] == 1:\n",
    "                        qc.rx(angle,qbits[single_rot_q])\n",
    "                    elif idx_pair[single_rot_q] == 2:\n",
    "                        qc.ry(angle,qbits[single_rot_q])\n",
    "                    elif idx_pair[single_rot_q] == 3:\n",
    "                        qc.rz(angle,qbits[single_rot_q])\n",
    "                \n",
    "                # multi-qubit rotation\n",
    "                else:\n",
    "                    id_idx_list = []\n",
    "                    for j in range(len(idx_pair)):\n",
    "                        if idx_pair[j] == 0:\n",
    "                            id_idx_list.append(j)\n",
    "                        elif idx_pair[j] == 1:\n",
    "                            qc.h(qbits[j])\n",
    "                        elif idx_pair[j] == 2:\n",
    "                            qc.rx(np.pi/2, qbits[j])\n",
    "                        elif idx_pair[j] == 3:\n",
    "                            pass\n",
    "                        else:\n",
    "                            raise ValueError\n",
    "                            \n",
    "                    # maybe skip the CNOT on qubits acted on by I?\n",
    "                    applyPhase(qc,qbits,angle, id_idx_list)\n",
    "\n",
    "                    # apply conjugate transpose\n",
    "                    for j in range(len(idx_pair)):\n",
    "                        if idx_pair[j] == 0:\n",
    "                            pass\n",
    "                        elif idx_pair[j] == 1:\n",
    "                            qc.h(qbits[j])\n",
    "                        elif idx_pair[j] == 2:\n",
    "                            qc.rx(-np.pi/2, qbits[j])\n",
    "                        elif idx_pair[j] == 3:\n",
    "                            pass\n",
    "                        else:\n",
    "                            raise ValueError"
   ]
  },
  {
   "cell_type": "markdown",
   "metadata": {},
   "source": [
    "## Update Rotation Angles For Unitary Imaginary Time Evolution\n",
    "\n",
    "We denote **alist** as $a[m]$, the matrix of rotations per imaginary time step for our unitary operator that recreates imaginary time evolution. Recall:\n",
    "\n",
    "$$ A[m] = \\sum_{i_{1} \\ldots i_{k}} a[m]_{i_{1} \\ldots i_{k}} \\sigma_{i_{1}} \\ldots \\sigma_{i_{k}} \\equiv \\sum_{I} a[m]_{I} \\sigma_{I}$$\n",
    "\n",
    "The idea behind QITE is to define a unitary operator $e^{-i \\Delta \\tau A[m]}$ and apply it to a state $| \\Psi \\rangle$ to reproduce the state:\n",
    "\n",
    "$$| \\Psi' \\rangle = c^{-1/2} e^{- \\Delta \\tau h[m]} | \\Psi \\rangle$$\n",
    "\n",
    "We define the distance between the desired and initial states as $| \\Delta_{0} \\rangle = \\left( {| \\Psi' \\rangle - | \\Psi \\rangle} \\right) /{\\Delta \\tau}$ and the difference between the evolved and initial states as $| \\Delta \\rangle = -iA[m] | \\Psi \\rangle$. The goal is to minimize $\\| \\Delta_{0} - \\Delta \\|$. This corresponds to minimizing the quadratic function (from SI of the Motta paper):\n",
    "\n",
    "$$f \\left( a[m] \\right) = f_{0} + \\sum_{I} b_{I} a[m]_{I} + \\sum_{I,J} a[m]_{I} S_{IJ} a[m]_{J}$$\n",
    "$$f_{0} = \\langle \\Delta_{0} | \\Delta_{0} \\rangle \\text{,  } S_{IJ} = \\langle \\Psi | \\sigma_{I}^{\\dagger} \\sigma_{J} | \\Psi \\rangle \\text{,  } b_{I} = i \\langle \\Psi | \\sigma_{I}^{\\dagger} | \\Delta_{0} \\rangle - i \\langle \\Delta_{0} | \\sigma_{I} | \\Psi \\rangle = -\\frac{i}{\\sqrt{c}} \\langle \\Psi | \\sigma_{I}^{\\dagger} h[m] | \\Psi \\rangle$$\n",
    "\n",
    "The minimum is the solution to the linear equation $\\left( S + S^{T} \\right) a[m] = -b$, which we solve by applying the generalized inverse or via some iterative algorithm.\n",
    "\n",
    "To compute $S$, we need to the matrix elements:\n",
    "\n",
    "$$S_{ij} = \\langle \\psi | Q_{i} Q_{j} | \\psi \\rangle = \\langle \\psi | ( \\sigma_{i0} \\otimes \\sigma_{i1} ) ( \\sigma_{j0} \\otimes \\sigma_{j1} ) | \\psi \\rangle = \\langle \\psi | \\left( \\sigma_{i0} \\sigma_{j0} \\otimes \\sigma_{i1} \\sigma_{j1} \\right) | \\psi \\rangle$$\n",
    "\n",
    "To compute $b$, we need the vector elements:\n",
    "$$b_{i} = i \\langle \\psi | Q_{i} | \\Delta_{0} \\rangle - h.c. = i \\langle \\psi | {( \\sigma_{i0} \\otimes \\sigma_{i1})} | \\Delta_{0} \\rangle - h.c.$$\n",
    "\n",
    "\n",
    "These computations are done in the **update_alist** function. But to compute these elements, we first need to compute the 2-qubit Pauli expectations in a state propagated by our unitary imaginary time evolution.\n",
    "\n",
    "For the 1-qubit case, we need to construct the matrix $S_{ij} = \\langle \\psi | \\sigma_{i} \\sigma_{j} | \\psi \\rangle$ and the vector $b_{i}$. Well, our earlier functions allow us to measure the expectation values of the different pauli matrices. How do we obtain $S_{ij}$ from a list of $\\langle \\psi | \\sigma | \\psi \\rangle$? We can exploit the fact that up to some coefficients, $\\sigma_{i}\\sigma_{j} = c_{ij}\\sigma_{ij}$. For example, $\\sigma_{x}\\sigma_{y} = i\\sigma_{z}$. We will need a matrix to keep track of what pauli matrix and coefficient we get for $\\sigma_{i}\\sigma_{j}$. A pragmatic approach is to hard-code these 1-qubit matrix multiplication matrices.\n",
    "\n",
    "For the 2-qubit case, we can reuse the 1-qubit matrices. For example,\n",
    "$(X \\otimes X) (X \\otimes Y) = XX \\otimes XY = I \\otimes i Z$\n",
    "\n",
    "Another way is to hard-code the 2-qubit matrices by directly populating the Lie algebra rules, as we do below."
   ]
  },
  {
   "cell_type": "code",
   "execution_count": 7,
   "metadata": {},
   "outputs": [],
   "source": [
    "import sys\n",
    "sys.path.append('classical')"
   ]
  },
  {
   "cell_type": "code",
   "execution_count": 8,
   "metadata": {},
   "outputs": [],
   "source": [
    "import numpy as np\n",
    "import matplotlib.pyplot as plt\n",
    "from scipy.linalg import expm \n",
    "from binary_functions import Int2Bas,Bas2Int,Opp2Str,Str2Opp\n",
    "from Pmn import PPmunu"
   ]
  },
  {
   "cell_type": "code",
   "execution_count": 9,
   "metadata": {},
   "outputs": [],
   "source": [
    "def lie_algebra(mu,nu,n):\n",
    "    # Return coefficients and index for sigma mu,sigma nu\n",
    "    index = ''\n",
    "    coeff = 1\n",
    "    for i in range(n):\n",
    "        tmpA,tmpB = PPmunu(mu[i]+nu[i])\n",
    "        index += tmpA\n",
    "        coeff *= tmpB\n",
    "    return coeff,Bas2Int(Str2Opp(index),4)"
   ]
  },
  {
   "cell_type": "code",
   "execution_count": 10,
   "metadata": {},
   "outputs": [],
   "source": [
    "def get_index_coeff(n=2):\n",
    "    index = np.zeros([4**n,4**n],dtype=int)\n",
    "    coeff = np.zeros([4**n,4**n],dtype=complex)\n",
    "    for i in range(4**n):\n",
    "        for j in range(4**n):\n",
    "            coeff[i,j],index[i,j] = lie_algebra(Opp2Str(Int2Bas(i,4,n)),Opp2Str(Int2Bas(j,4,n)),n)\n",
    "    return index,coeff"
   ]
  },
  {
   "cell_type": "code",
   "execution_count": 11,
   "metadata": {},
   "outputs": [],
   "source": [
    "# index, coeff = get_index_coeff(n=4)\n",
    "# index, coeff = get_index_coeff(n=3)\n",
    "index, coeff = get_index_coeff(n=2)\n",
    "# print(\"index matrix: \")\n",
    "# print(index)\n",
    "# print(\"coeff matrix: \")\n",
    "# print(coeff)"
   ]
  },
  {
   "cell_type": "markdown",
   "metadata": {},
   "source": [
    "We now want to obtain the coefficients $a[m]$ at the current time step and append to alist. In the **update_alist** function, we use the **index** and **coeff** matrices and the function np.linalg.std to construct the S matrix and b vector and solve for x, the rotation angle used in state propagation. Because the rotation gate is defined as $e^{-i\\theta/2\\sigma}$, we multiply the x by 2 before storing them in alist. More specifically:"
   ]
  },
  {
   "cell_type": "code",
   "execution_count": 12,
   "metadata": {},
   "outputs": [],
   "source": [
    "def update_alist(sigma_expectation,alist,db,delta,hm):\n",
    "    '''\n",
    "    Obtain A[m]\n",
    "    To do this, we compute the S matrix and the b vector. We also need to compute the norm c\n",
    "    Details:\n",
    "    Each local Hamiltonian term hm can be a sum of many 2-qubit operators...\n",
    "     ... see the construction of the hm_list to see why... for each term in hm (hm[i]):\n",
    "    hm[i][1][0] is the multiplicative constant in the Hamiltonian\n",
    "    hm[i][0][0] is the index of the Pauli matrix for qubit 0\n",
    "    hm[i][0][1] is the index of the Pauli matrix for qubit 1\n",
    "    '''\n",
    "    \n",
    "    # c is the squared norm\n",
    "    c = 1\n",
    "    for i in range(len(hm)):\n",
    "        hm_idx = pauli_pair_dict[tuple(hm[i][0])]\n",
    "#         print(hm_idx, sigma_expectation[hm_idx],hm[i][1][0])\n",
    "        c -= 2 * db * hm[i][1][0] * sigma_expectation[hm_idx]\n",
    "    # c is now the norm, after we take its square root\n",
    "    c = np.sqrt(c)\n",
    "    \n",
    "    \n",
    "    # We want to construct S and b with only the operators: II, YZ, ZY\n",
    "#     dim = len(sigma_expectation)\n",
    "    dim = 2\n",
    "    \n",
    "    # Initialize S matrix\n",
    "    S = np.zeros([dim, dim], dtype=complex)\n",
    "    # Initialize b vector\n",
    "    b = np.zeros([dim], dtype=complex)\n",
    "    \n",
    "    for i in range(dim):\n",
    "        pair_1_index = reduced_ops_i[i]\n",
    "        # Step 1: Obtain S matrix\n",
    "        for j in range(dim):\n",
    "            pair_2_index = reduced_ops_i[j]\n",
    "            S[i, j] = sigma_expectation[index[pair_1_index,pair_2_index]] * coeff[pair_1_index,pair_2_index]\n",
    "\n",
    "        # Step 2: Obtain b vector\n",
    "        b[i] += (sigma_expectation[pair_1_index]/c-sigma_expectation[pair_1_index])/(db)\n",
    "        # iterate through hm terms\n",
    "        for j in range(len(hm)):\n",
    "            hm_idx = pauli_pair_dict[tuple(hm[j][0])]            \n",
    "            b[i] -= hm[j][1][0]*coeff[pair_1_index,hm_idx]*sigma_expectation[index[pair_1_index,hm_idx]]/c\n",
    "        b[i] = 1j*b[i] - 1j*np.conj(b[i])\n",
    "        \n",
    "    # Step 3: Add regularizer... dim x dim matrix with delta on main diagonal and 0s elsewhere\n",
    "    dalpha = np.eye(dim)*delta\n",
    "\n",
    "    # Step 4: Solve for linear equation, the solution is multiplied by -2 because of the definition of unitary rotation gates is exp(-i theta/2)\n",
    "    x = np.linalg.lstsq(S + np.transpose(S) + dalpha, -b, rcond=-1)[0]\n",
    "    alist.append([])\n",
    "                \n",
    "    for i in range(len(x)):\n",
    "        angle = x[i] * db\n",
    "        alist[-1].append(-2 * angle)\n",
    "    return c\n"
   ]
  },
  {
   "cell_type": "markdown",
   "metadata": {},
   "source": [
    "## Full QITE Protocol\n",
    "\n",
    "Now we implement the full QITE protocol. It will be good to have a big picture of what should be done. We step through imaginary time and at each time step, we should first measure the expectation values of the pauli matrices $\\sigma$. This is indicated in the first two lines of the for loop. Using the relevant expectation values, we obtain the coefficients $a[m]$ in equation (2.5) of Lecture 12 using the update rule in equation (2.9-2.11). We store it in a list and use this to propagate our state. Note we have to always reconstruct our state for each new measurements we make. Finally, we measure the current energy values. Let us construct the required functions starting with **get_expectation**. We make use of the **measure** function we constructed earlier. The key here is to propagate our state using the coefficients in alist. We do this using the **propagate** function."
   ]
  },
  {
   "cell_type": "code",
   "execution_count": 13,
   "metadata": {},
   "outputs": [],
   "source": [
    "def ansatz(p, qbits):\n",
    "    None\n",
    "\n",
    "def create_EPR_pair(qc, q1, q2):\n",
    "    qc.h(q1)\n",
    "    qc.cx(q1, q2)\n",
    "    \n",
    "def build_QITE_measurement_circuit(nqbits, ncbits, nancbits=0):\n",
    "    # quantum nqbits register\n",
    "    qr = QuantumRegister(nqbits)\n",
    "    # classical 1 bit readout register\n",
    "    ro = ClassicalRegister(ncbits, name='ro')\n",
    "    if nancbits > 0:\n",
    "        # ancilla\n",
    "        qr_anc = QuantumRegister(nancbits)\n",
    "        qc = QuantumCircuit(qr, qr_anc, ro)\n",
    "    else:\n",
    "        qc = QuantumCircuit(qr, ro)\n",
    "        \n",
    "    # Bell state\n",
    "    create_EPR_pair(qc, 0,1)\n",
    "    return qc\n",
    "\n",
    "def measure_energy(qbackend, qbits, alist, shots, hm_list, display=False, noise=False, optimization_level=1):\n",
    "    # Measure the energy at the end of each time step\n",
    "    Energy = 0\n",
    "    Nterms = len(hm_list)\n",
    "    nqbits = len(qbits)\n",
    "    ncbits = 1\n",
    "    if noise:\n",
    "        ncbits = 2\n",
    "    for i in range(len(hm_list)):\n",
    "        hm = hm_list[i]\n",
    "        for j in range(len(hm)):\n",
    "            pauli_pair = tuple(hm[j][0])\n",
    "            idx = pauli_pair_dict[pauli_pair]\n",
    "            # build circuit\n",
    "            qc = build_QITE_measurement_circuit(nqbits,ncbits)\n",
    "            # propagate the state\n",
    "            propagate(qc,qbits,alist)\n",
    "            # measure Pauli string\n",
    "            pauli_expectation = measure_pauli_expectations(qbackend,qc,qbits,idx,shots=shots,noise=noise)\n",
    "            tmp = hm[j][1][0]*pauli_expectation\n",
    "            print(\"pauli_pair {} energy contribution: {}\".format(pauli_pair, tmp))\n",
    "            Energy += tmp\n",
    "            if display:\n",
    "                print(qc)\n",
    "    return Energy\n",
    "\n",
    "def get_expectation(qbackend, qbits, alist, shots, display=False, noise=False, optimization_level=1):\n",
    "    # Obtain the expectation values of the Pauli string at each time step\n",
    "    nqbits = len(qbits)\n",
    "    ncbits = 1\n",
    "    if noise:\n",
    "        ncbits = 2\n",
    "    dim = len(reduced_ops_i)\n",
    "    sigma_expectation = {}\n",
    "    for i in range(dim):\n",
    "        idx = reduced_ops_i[i]\n",
    "        # build circuit\n",
    "        qc = build_QITE_measurement_circuit(nqbits,ncbits)\n",
    "        # propagate the state\n",
    "        propagate(qc,qbits,alist)\n",
    "        # measure Pauli string\n",
    "        pauli_expectation = measure_pauli_expectations(qbackend,qc,qbits,idx,shots=shots,noise=noise)\n",
    "        sigma_expectation[idx] = complex(pauli_expectation)\n",
    "        if display:\n",
    "            print(qc)\n",
    "    return sigma_expectation\n",
    "\n",
    "# use this to avoid the extra time complexity of propagating and measuring again... the values we want are already in sigma_expectation\n",
    "def get_energy_from_sigma(sigma_expectation, hm_list, verbose=True):\n",
    "    Energy = 0\n",
    "    Nterms = len(hm_list)\n",
    "    for i in range(len(hm_list)):\n",
    "        hm = hm_list[i]\n",
    "        # For each Pauli matrix pair (2-qubit operator) in the Hamiltonian, \n",
    "        for j in range(len(hm)):\n",
    "            # pauli pair to retrieve the measurement for in sigma_expectations\n",
    "            pauli_pair = tuple(hm[j][0])\n",
    "            idx = pauli_pair_dict[pauli_pair]\n",
    "            # energy contribution of this term\n",
    "            tmp = hm[j][1][0] * sigma_expectation[idx]\n",
    "            if verbose:\n",
    "                print(\"pauli_pair {} energy contribution: {}\".format(pauli_pair, tmp))\n",
    "            Energy += tmp\n",
    "    return Energy\n",
    "\n",
    "def qite_step(qbackend, qbits, alist, shots, db, delta, hm_list, verbose=True, display=False, noise=False, optimization_level=1):\n",
    "    sigma_expectation = get_expectation(qbackend, qbits, alist, shots, display=display, noise=noise, optimization_level=optimization_level)\n",
    "    energy = get_energy_from_sigma(sigma_expectation, hm_list, verbose=verbose)\n",
    "#     energy = measure_energy(qbackend, qbits, alist, shots, hm_list, display=display, noise=noise, optimization_level=optimization_level)\n",
    "    for j in range(len(hm_list)):\n",
    "        update_alist(sigma_expectation, alist, db, delta, hm_list[j]) # = norm\n",
    "    return alist, sigma_expectation, energy\n",
    "\n",
    "def qite(qbackend, qbits, shots, db, delta, N, hm_list, verbose=True, display=False, noise=False, optimization_level=1):\n",
    "    E = np.zeros([N+1],dtype=complex)\n",
    "    alist = []\n",
    "    # Qite main loop\n",
    "    for i in range(0,N):\n",
    "        alist, sigma_expectation, energy = qite_step(qbackend, qbits, alist, shots, db, delta, hm_list, verbose=verbose, display=display, noise=noise, optimization_level=optimization_level)\n",
    "        E[i] = energy\n",
    "        if verbose:\n",
    "            if i == 0:\n",
    "                print(\"-----> Initial Energy: \", E[0])\n",
    "            else: \n",
    "                # print(\"QITE Step: \", i)\n",
    "                print(\"Imaginary Time: \", float(i) * db)\n",
    "                print(\"-----> Energy: \", E[i])\n",
    "    # measure final energy\n",
    "    E[N] = measure_energy(qbackend, qbits, alist, shots, hm_list, display=display, noise=noise, optimization_level=optimization_level)\n",
    "    print(\"Imaginary Time: \", N * db)\n",
    "    print(\"-----> Final energy: \", E[N])\n",
    "    return E"
   ]
  },
  {
   "cell_type": "markdown",
   "metadata": {},
   "source": [
    "## Run QITE"
   ]
  },
  {
   "cell_type": "markdown",
   "metadata": {},
   "source": [
    "### Run helpers"
   ]
  },
  {
   "cell_type": "code",
   "execution_count": 14,
   "metadata": {},
   "outputs": [],
   "source": [
    "def run_QITE(qbackend, hm_list, nqbits=2, N=10, shots=8192, delta=0.25, db=0.1, verbose=True, display=False, noise=False, optimization_level=1):    \n",
    "    # put qubits in a linear ordering\n",
    "    qbits = [i for i in range(0,nqbits)]\n",
    "    print(\"number of qubits: \", nqbits)\n",
    "    print(\"qubit ordering: \", qbits)\n",
    "    print(\"IBMQ backend: \", qbackend)\n",
    "    print(\"noise: \", noise)\n",
    "    print(\"shots: \", shots)\n",
    "    print(\"hm list: \", hm_list)\n",
    "    print(\"QITE steps: \", N)\n",
    "    print(\"regularization delta: \", delta)\n",
    "    print(\"imaginary time step db: \", db)\n",
    "    print(\"running QITE...\")\n",
    "    E = qite(qbackend, qbits,shots,db,delta,N,hm_list,verbose=verbose,display=display, noise=noise, optimization_level=optimization_level)\n",
    "    return E"
   ]
  },
  {
   "cell_type": "markdown",
   "metadata": {},
   "source": [
    "### Define Hamiltonian in hm_list form for QITE"
   ]
  },
  {
   "cell_type": "code",
   "execution_count": 15,
   "metadata": {},
   "outputs": [
    {
     "name": "stdout",
     "output_type": "stream",
     "text": [
      "t =  1.0 , U =  2.0\n",
      "Hamiltonian:  [[[[1, 0], [-1.0]], [[0, 1], [-1.0]], [[0, 0], [1.0]], [[3, 3], [1.0]]]]\n"
     ]
    }
   ],
   "source": [
    "# kinetic energy contribution\n",
    "t = 1.\n",
    "# potential energy contribution\n",
    "U = 2.\n",
    "print(\"t = \", t, \", U = \", U)\n",
    "\n",
    "# 2 qubit\n",
    "hm_list = []\n",
    "hm_list.append([])\n",
    "hm_list[0].append([[1, 0], [-t]])\n",
    "hm_list[0].append([[0, 1], [-t]])\n",
    "hm_list[0].append([[0, 0], [U/2]])\n",
    "hm_list[0].append([[3, 3], [U/2]])\n",
    "\n",
    "print(\"Hamiltonian: \", hm_list)"
   ]
  },
  {
   "cell_type": "markdown",
   "metadata": {},
   "source": [
    "### Define Hamiltonian in explicit matrix form for classical simulation"
   ]
  },
  {
   "cell_type": "code",
   "execution_count": 16,
   "metadata": {},
   "outputs": [
    {
     "name": "stdout",
     "output_type": "stream",
     "text": [
      "Hamiltonian: \n",
      "[[ 2. -1. -1.  0.]\n",
      " [-1.  0.  0. -1.]\n",
      " [-1.  0.  0. -1.]\n",
      " [ 0. -1. -1.  2.]]\n",
      "Exact ground state energy:  -1.2360679774997898\n",
      "Exact ground state vector: \n",
      " [-0.37174803 -0.60150096 -0.60150096 -0.37174803]\n"
     ]
    }
   ],
   "source": [
    "sigma = np.zeros([2, 2, 4], dtype=complex)\n",
    "sigma[0, 0, 0] = 1.\n",
    "sigma[1, 1, 0] = 1.\n",
    "sigma[0, 1, 1] = 1.\n",
    "sigma[1, 0, 1] = 1.\n",
    "sigma[0, 1, 2] = -1j\n",
    "sigma[1, 0, 2] = 1j\n",
    "sigma[0, 0, 3] = 1.\n",
    "sigma[1, 1, 3] = -1.\n",
    "# N = 10 # Number of imaginary time steps\n",
    "\n",
    "op = lambda i, j: np.kron(sigma[:,:,i], sigma[:,:,j])\n",
    "\n",
    "ii = np.kron(sigma[:, :, 0], sigma[:, :, 0])\n",
    "ix = np.kron(sigma[:, :, 0], sigma[:, :, 1])\n",
    "iy = np.kron(sigma[:, :, 0], sigma[:, :, 2])\n",
    "iz = np.kron(sigma[:, :, 0], sigma[:, :, 3])\n",
    "xi = np.kron(sigma[:, :, 1], sigma[:, :, 0])\n",
    "yi = np.kron(sigma[:, :, 2], sigma[:, :, 0])\n",
    "zi = np.kron(sigma[:, :, 3], sigma[:, :, 0])\n",
    "xx = np.kron(sigma[:, :, 1], sigma[:, :, 1])\n",
    "yy = np.kron(sigma[:, :, 2], sigma[:, :, 2])\n",
    "zz = np.kron(sigma[:, :, 3], sigma[:, :, 3])\n",
    "zx = np.kron(sigma[:, :, 3], sigma[:, :, 1])\n",
    "zy = np.kron(sigma[:, :, 3], sigma[:, :, 2])\n",
    "yz = np.kron(sigma[:, :, 2], sigma[:, :, 3])\n",
    "xz = np.kron(sigma[:, :, 1], sigma[:, :, 3])\n",
    "xy = np.kron(sigma[:, :, 1], sigma[:, :, 2])\n",
    "yx = np.kron(sigma[:, :, 2], sigma[:, :, 1])\n",
    "\n",
    "Hamiltonian = -t * (xi + ix) + (U / 2) * (ii + zz)\n",
    "\n",
    "w, v = np.linalg.eigh(Hamiltonian.real)\n",
    "print(\"Hamiltonian: \")\n",
    "print(Hamiltonian.real)\n",
    "print(\"Exact ground state energy: \", w[0])\n",
    "print(\"Exact ground state vector: \\n\", v[:,0])"
   ]
  },
  {
   "cell_type": "code",
   "execution_count": 17,
   "metadata": {},
   "outputs": [
    {
     "data": {
      "text/plain": [
       "array([[0.+0.j, 0.+0.j, 0.+0.j, 0.+0.j],\n",
       "       [0.+0.j, 0.+0.j, 0.+0.j, 0.+0.j],\n",
       "       [0.+0.j, 0.+0.j, 0.+0.j, 0.+0.j],\n",
       "       [0.+0.j, 0.+0.j, 0.+0.j, 0.+0.j]])"
      ]
     },
     "execution_count": 17,
     "metadata": {},
     "output_type": "execute_result"
    }
   ],
   "source": [
    "def get_commutator(a, b):\n",
    "    return np.matmul(a,b) - np.matmul(b,a)\n",
    "    \n",
    "get_commutator(xx,yz)"
   ]
  },
  {
   "cell_type": "code",
   "execution_count": 18,
   "metadata": {},
   "outputs": [
    {
     "name": "stdout",
     "output_type": "stream",
     "text": [
      "[[-0.70710678 -0.          0.         -0.70710678]\n",
      " [ 0.          0.70710678 -0.70710678  0.        ]\n",
      " [ 0.         -0.70710678 -0.70710678  0.        ]\n",
      " [ 0.70710678  0.          0.         -0.70710678]]\n",
      "[-1. -1.  1.  1.]\n"
     ]
    }
   ],
   "source": [
    "w_xx, v_xx = np.linalg.eigh(xx)\n",
    "print(v_xx.real)\n",
    "print(w_xx)"
   ]
  },
  {
   "cell_type": "markdown",
   "metadata": {},
   "source": [
    "### IBMQ backend"
   ]
  },
  {
   "cell_type": "code",
   "execution_count": 19,
   "metadata": {},
   "outputs": [],
   "source": [
    "# to access IBMQ devices\n",
    "provider = IBMQ.load_account()\n",
    "\n",
    "# IBMQ backend\n",
    "# IBMQ simulator\n",
    "qbackend = Aer.get_backend('qasm_simulator')\n",
    "# # IBMQ hardware\n",
    "# qbackend = provider.get_backend('ibmq_vigo')"
   ]
  },
  {
   "cell_type": "markdown",
   "metadata": {},
   "source": [
    "### Noise model"
   ]
  },
  {
   "cell_type": "code",
   "execution_count": 20,
   "metadata": {},
   "outputs": [],
   "source": [
    "from qiskit.providers.aer.noise import NoiseModel\n",
    "# TODO: define a custom noise model"
   ]
  },
  {
   "cell_type": "markdown",
   "metadata": {},
   "source": [
    "### QITE parameters"
   ]
  },
  {
   "cell_type": "code",
   "execution_count": 32,
   "metadata": {},
   "outputs": [],
   "source": [
    "# QITE settings\n",
    "nqbits = 2\n",
    "N = 5\n",
    "# 0.24 if the great turning point\n",
    "db = 0.2\n",
    "delta = 0.30\n",
    "shots = 8192\n",
    "\n",
    "beta = N * db\n",
    "\n",
    "# compiler settings\n",
    "noise = True\n",
    "optimization_level = 0\n",
    "\n",
    "display = False"
   ]
  },
  {
   "cell_type": "markdown",
   "metadata": {},
   "source": [
    "### Run multiple trials"
   ]
  },
  {
   "cell_type": "code",
   "execution_count": 33,
   "metadata": {},
   "outputs": [
    {
     "name": "stdout",
     "output_type": "stream",
     "text": [
      "Trial  1\n",
      "number of qubits:  2\n",
      "qubit ordering:  [0, 1]\n",
      "IBMQ backend:  qasm_simulator\n",
      "noise:  True\n",
      "shots:  8192\n",
      "hm list:  [[[[1, 0], [-1.0]], [[0, 1], [-1.0]], [[0, 0], [1.0]], [[3, 3], [1.0]]]]\n",
      "QITE steps:  5\n",
      "regularization delta:  0.3\n",
      "imaginary time step db:  0.2\n",
      "running QITE...\n",
      "pauli_pair (1, 0) energy contribution: (0.02806835277647413-0j)\n",
      "pauli_pair (0, 1) energy contribution: (0.02711768695637084-0j)\n",
      "pauli_pair (0, 0) energy contribution: (1+0j)\n",
      "pauli_pair (3, 3) energy contribution: (0.9820155961558581+0j)\n",
      "-----> Initial Energy:  (2.037201635888703+0j)\n",
      "pauli_pair (1, 0) energy contribution: (-0.9472238708071966+0j)\n",
      "pauli_pair (0, 1) energy contribution: (-0.9107312053919614+0j)\n",
      "pauli_pair (0, 0) energy contribution: (1+0j)\n",
      "pauli_pair (3, 3) energy contribution: (0.0712815986536471+0j)\n",
      "Imaginary Time:  0.2\n",
      "-----> Energy:  (-0.786673477545511+0j)\n",
      "pauli_pair (1, 0) energy contribution: (-0.8966963428227437+0j)\n",
      "pauli_pair (0, 1) energy contribution: (-0.8728209358996744+0j)\n",
      "pauli_pair (0, 0) energy contribution: (1+0j)\n",
      "pauli_pair (3, 3) energy contribution: (-0.22774954636756553+0j)\n",
      "Imaginary Time:  0.4\n",
      "-----> Energy:  (-0.9972668250899835+0j)\n",
      "pauli_pair (1, 0) energy contribution: (-0.8466538461405912+0j)\n",
      "pauli_pair (0, 1) energy contribution: (-0.807882789564609+0j)\n",
      "pauli_pair (0, 0) energy contribution: (1+0j)\n",
      "pauli_pair (3, 3) energy contribution: (-0.3140734206507307+0j)\n",
      "Imaginary Time:  0.6000000000000001\n",
      "-----> Energy:  (-0.968610056355931+0j)\n",
      "pauli_pair (1, 0) energy contribution: (-0.7984644543496963+0j)\n",
      "pauli_pair (0, 1) energy contribution: (-0.7780435011090946+0j)\n",
      "pauli_pair (0, 0) energy contribution: (1+0j)\n",
      "pauli_pair (3, 3) energy contribution: (-0.3426222451622653+0j)\n",
      "Imaginary Time:  0.8\n",
      "-----> Energy:  (-0.9191302006210562+0j)\n",
      "pauli_pair (1, 0) energy contribution: -0.7543713372495326\n",
      "pauli_pair (0, 1) energy contribution: -0.7665676833717138\n",
      "pauli_pair (0, 0) energy contribution: 1.0\n",
      "pauli_pair (3, 3) energy contribution: -0.33029504629983464\n",
      "Imaginary Time:  1.0\n",
      "-----> Final energy:  (-0.851234066921081+0j)\n",
      "--- 19.051650047302246 seconds ---\n"
     ]
    }
   ],
   "source": [
    "import time\n",
    "\n",
    "E_list = []\n",
    "n_trials = 1\n",
    "verbose = False\n",
    "if n_trials == 1:\n",
    "    verbose = True\n",
    "for i in range(n_trials):\n",
    "    print(\"Trial \", i+1)\n",
    "    start_time = time.time()\n",
    "    E = run_QITE(qbackend, hm_list, nqbits=nqbits, N=N, db=db, delta=delta, shots=shots, verbose=verbose, display=display, noise=noise, optimization_level=optimization_level)\n",
    "    print(\"--- %s seconds ---\" % (time.time() - start_time))\n",
    "    E_list.append(E.real)"
   ]
  },
  {
   "cell_type": "markdown",
   "metadata": {},
   "source": [
    "### Plot results"
   ]
  },
  {
   "cell_type": "code",
   "execution_count": 34,
   "metadata": {},
   "outputs": [],
   "source": [
    "def plot_E_list(E_list):\n",
    "    plt.figure(figsize=[8,4], dpi=150)\n",
    "    if len(E_list) > 1:\n",
    "        for i in range(len(E_list)):\n",
    "            E = E_list[i]\n",
    "            plt.plot(np.arange(0,N+1)*db,E.real,'-r',alpha=0.1)\n",
    "\n",
    "        plt.plot(np.arange(0,N+1)*db,np.average(E_list,axis=0),'-ro', label=\"QITE\")\n",
    "    else:\n",
    "        plt.plot(np.arange(0,N+1)*db,E_list[0],'-ro', label=\"QITE\")\n",
    "    plt.axhline(y=w[0], color='k',linestyle='--',label=\"Ground state\")\n",
    "    plt.title(\"QITE on 2-site Hubbard Model\")\n",
    "    plt.xlabel(\"Imaginary time\")\n",
    "    plt.ylabel(\"Energy\")\n",
    "    plt.grid()\n",
    "    plt.legend(bbox_to_anchor=(1.0,1.0))\n",
    "    plt.show()"
   ]
  },
  {
   "cell_type": "code",
   "execution_count": 35,
   "metadata": {},
   "outputs": [
    {
     "data": {
      "image/png": "[encoded data removed]",
      "text/plain": [
       "<Figure size 1200x600 with 1 Axes>"
      ]
     },
     "metadata": {
      "needs_background": "light"
     },
     "output_type": "display_data"
    }
   ],
   "source": [
    "plot_E_list(E_list)"
   ]
  },
  {
   "cell_type": "markdown",
   "metadata": {},
   "source": [
    "## Classical simulation"
   ]
  },
  {
   "cell_type": "code",
   "execution_count": 25,
   "metadata": {},
   "outputs": [
    {
     "name": "stdout",
     "output_type": "stream",
     "text": [
      "Final energy at beta 1.0 is  -1.2345407841991052\n"
     ]
    }
   ],
   "source": [
    "# Classical trajectory\n",
    "\n",
    "# List to store energy values\n",
    "energy_classical_list = []\n",
    "\n",
    "# Initialize into |00...> state\n",
    "# init_state_as_list = [1] + [0] * (2**(nqbits) - 1)\n",
    "init_state_as_list = [1,0,0,1]\n",
    "psi = np.array(init_state_as_list,dtype=complex)\n",
    "psi = psi/np.linalg.norm(psi)\n",
    "\n",
    "# db = beta/N\n",
    "expmH = expm(-db * Hamiltonian)\n",
    "phi = psi\n",
    "\n",
    "# Store the energy for initial wavefunction\n",
    "e = np.matmul(Hamiltonian, phi)\n",
    "e = np.real(np.matmul(np.transpose(np.conj(phi)), e))\n",
    "energy_classical_list.append(e)\n",
    "\n",
    "# Perform imaginary time evolution\n",
    "for i in range(0,N):\n",
    "    # Perform imaginary time evolution\n",
    "    phi = np.matmul(expmH, phi)\n",
    "    # Require normalization because imaginary time evolution is non-unitary\n",
    "    phi = phi / np.linalg.norm(phi)\n",
    "    # Store the energy values at each step\n",
    "    e = np.matmul(Hamiltonian, phi)\n",
    "    e = np.real(np.matmul(np.transpose(np.conj(phi)), e))\n",
    "    energy_classical_list.append(e)\n",
    "print('Final energy at beta', beta, 'is ', e)"
   ]
  },
  {
   "cell_type": "markdown",
   "metadata": {},
   "source": [
    "## Classical QITE approximation"
   ]
  },
  {
   "cell_type": "code",
   "execution_count": 26,
   "metadata": {},
   "outputs": [
    {
     "name": "stdout",
     "output_type": "stream",
     "text": [
      "We start QITE now\n",
      "Final energy at beta 1.0 is  -1.2360637370163086\n"
     ]
    }
   ],
   "source": [
    "# QITE trajectory\n",
    "energy_qite_list = []\n",
    "\n",
    "phi = psi\n",
    "\n",
    "# Store the energy for initial wavefunction\n",
    "e = np.matmul(Hamiltonian, phi)\n",
    "e = np.real(np.matmul(np.transpose(np.conj(phi)), e))\n",
    "energy_qite_list.append(e)\n",
    "\n",
    "debug_Pmu_expectation_list = []\n",
    "\n",
    "dim = 4**nqbits\n",
    "\n",
    "print('We start QITE now')\n",
    "for i in range(0,N):\n",
    "    \n",
    "    # First construct Pmu_expectation matrices\n",
    "    Pmu_expectation = np.zeros([dim], dtype=complex)\n",
    "    for Pmu in range(2**4):\n",
    "        ops = Int2Bas(Pmu, 4, 2)\n",
    "#         print(\"ops: \", ops)\n",
    "        operator = np.kron(sigma[:, :, ops[0]], sigma[:, :, ops[1]])\n",
    "        Pmu_expectation[Pmu] = np.matmul(np.transpose(np.conj(phi)), np.matmul(operator, phi))\n",
    "    debug_Pmu_expectation_list.append(Pmu_expectation.real.tolist())\n",
    "\n",
    "    # Now construct S matrix\n",
    "    S = np.zeros([dim, dim], dtype=complex)\n",
    "    for i in range(dim):\n",
    "        for j in range(dim):\n",
    "            S[i,j] = Pmu_expectation[index[i, j]]*coeff[i, j]\n",
    "\n",
    "    # Now construct b vector\n",
    "    b = np.zeros([dim], dtype=complex)\n",
    "    c = 1\n",
    "\n",
    "    # We will hardcode in the QITE step\n",
    "    \n",
    "    for k in range(len(hm_list)):\n",
    "        hm = hm_list[k]\n",
    "        for j in range(len(hm)):\n",
    "            pauli_pair = (hm[j][0][0],hm[j][0][1])\n",
    "            idx = pauli_pair_dict[pauli_pair]\n",
    "            c -= 2 * (db) * hm[j][1][0] * Pmu_expectation[idx]\n",
    "    c = np.sqrt(c)\n",
    "    \n",
    "    for i in range(dim):\n",
    "        b[i] += (Pmu_expectation[i] / c - Pmu_expectation[i]) / (db)\n",
    "        for k in range(len(hm_list)):\n",
    "            hm = hm_list[k]\n",
    "            for j in range(len(hm)):\n",
    "                pauli_pair = (hm[j][0][0],hm[j][0][1])\n",
    "                idx = pauli_pair_dict[pauli_pair]\n",
    "                b[i] -= hm[j][1][0] * coeff[i, idx] * Pmu_expectation[index[i, idx]] / c\n",
    "        b[i] = 1j * b[i] - 1j * np.conj(b[i])\n",
    "\n",
    "    # Obtain x \n",
    "    dalpha = np.eye(dim) * 0.1\n",
    "    x = np.linalg.lstsq(S + np.transpose(S) + dalpha, -b, rcond=-1)[0]\n",
    "\n",
    "    # Classical evolution\n",
    "    U = np.eye(2**nqbits)\n",
    "    for i in range(len(x)):\n",
    "        ops = Int2Bas(i, 4, 2)\n",
    "        operator = np.kron(sigma[:, :, ops[0]], sigma[:, :, ops[1]])\n",
    "        U = np.matmul(expm(1j * (db) * x[i] * operator), U)\n",
    "    phi = np.matmul(U, phi)\n",
    "    \n",
    "    e = np.matmul(Hamiltonian, phi)\n",
    "    e = np.real(np.matmul(np.transpose(np.conj(phi)), e))\n",
    "    energy_qite_list.append(e)\n",
    "\n",
    "# print(debug_Pmu_expectation_list)\n",
    "print('Final energy at beta', beta, 'is ', e)"
   ]
  },
  {
   "cell_type": "code",
   "execution_count": 27,
   "metadata": {},
   "outputs": [
    {
     "name": "stderr",
     "output_type": "stream",
     "text": [
      "/home/abao/anaconda3/lib/python3.7/site-packages/numpy/core/_asarray.py:85: ComplexWarning: Casting complex values to real discards the imaginary part\n",
      "  return array(a, dtype, copy=False, order=order)\n"
     ]
    },
    {
     "data": {
      "image/png": "[encoded data removed]",
      "text/plain": [
       "<Figure size 1200x1200 with 2 Axes>"
      ]
     },
     "metadata": {
      "needs_background": "light"
     },
     "output_type": "display_data"
    }
   ],
   "source": [
    "# plt.figure(figsize=(8,4))\n",
    "        \n",
    "beta_list = np.asarray(range(0, N+1)) * db\n",
    "error = np.sqrt((np.array(E) - np.array(energy_classical_list))**2)\n",
    "\n",
    "plt.figure(figsize=[8,8], dpi=150)\n",
    "ax1 = plt.subplot2grid((4, 1), (0, 0), rowspan=3)\n",
    "ax2 = plt.subplot2grid((4, 1), (3, 0), rowspan=1, sharex=ax1)    \n",
    "\n",
    "ax1.plot(beta_list, energy_classical_list, '-b.', label='Exact trajectory')\n",
    "ax1.plot(beta_list, energy_qite_list, '-g.', label='QITE approximation')\n",
    "ax1.plot(np.arange(0,N+1)*db,np.average(E_list,axis=0),'-r.',label='QITE')\n",
    "ax1.plot([beta_list[0], beta_list[-1]], [w[0], w[0]], '--k', label='Ground state')\n",
    "# ax1.axhline(y=w[0], color='k',linestyle='--',label=\"Ground state\")\n",
    "\n",
    "ax2.plot(beta_list, error, label=\"QITE error\")\n",
    "\n",
    "ax1.set_title(\"Ground State Computation for 2-site Hubbard Model\")\n",
    "ax1.set_xlabel(\"Imaginary time\")\n",
    "ax1.set_ylabel(\"Energy\")\n",
    "ax1.legend(bbox_to_anchor=(1.0,1.0))\n",
    "ax1.grid()\n",
    "\n",
    "ax2.legend(bbox_to_anchor=(1.0,1.0))\n",
    "ax2.set_xlabel(\"Imaginary time\")\n",
    "ax2.grid()\n",
    "plt.show()"
   ]
  },
  {
   "cell_type": "code",
   "execution_count": null,
   "metadata": {},
   "outputs": [],
   "source": []
  }
 ],
 "metadata": {
  "kernelspec": {
   "display_name": "Python 3",
   "language": "python",
   "name": "python3"
  },
  "language_info": {
   "codemirror_mode": {
    "name": "ipython",
    "version": 3
   },
   "file_extension": ".py",
   "mimetype": "text/x-python",
   "name": "python",
   "nbconvert_exporter": "python",
   "pygments_lexer": "ipython3",
   "version": "3.7.4"
  }
 },
 "nbformat": 4,
 "nbformat_minor": 2
}
