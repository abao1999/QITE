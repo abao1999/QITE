{
 "cells": [
  {
   "cell_type": "markdown",
   "metadata": {},
   "source": [
    "$\\newcommand{\\braket}[2]{\\left\\langle{#1}\\middle|{#2}\\right\\rangle}$\n",
    "$\\newcommand{\\ket}[1]{\\left|{#1}\\right\\rangle}$\n",
    "$\\newcommand{\\bra}[1]{\\left\\langle{#1}\\right|}$\n",
    "\n",
    "This section is a guide in implementing QITE to obtain the ground state of $\\hat{H} = \\hat{Z}$. We start from the initial state $\\ket{+}$ and wish to propagate the state using a step size of $\\Delta\\tau = 0.1$ until $\\beta = 2.5$. Let us begin by measuring the initial energy of this state."
   ]
  },
  {
   "cell_type": "code",
   "execution_count": 46,
   "metadata": {},
   "outputs": [
    {
     "name": "stdout",
     "output_type": "stream",
     "text": [
      "Initial energy is:  (0.0036000000000000476+0j)\n"
     ]
    }
   ],
   "source": [
    "import numpy as np\n",
    "from pyquil.gates import *\n",
    "from pyquil.noise import estimate_bitstring_probs\n",
    "from pyquil import Program, get_qc\n",
    "\n",
    "n = 25\n",
    "shots = 5000\n",
    "E = np.zeros([n+1],dtype=complex)\n",
    "alist = []\n",
    "def ansatz(p):\n",
    "    # 1(a). Construct the ansatz for the initial state\n",
    "    # act Hadamard gate on qubit 0\n",
    "    p += H(0)\n",
    "#     print(p)\n",
    "\n",
    "def measure(p,ro,idx):\n",
    "    # We define measure as follow: We pass it an index idx that indicates which pauli expectation we want\n",
    "    # idx = 0, measure \"I\"\n",
    "    # idx = 1, measure \"X\"\n",
    "    # idx = 2, measure \"Y\"\n",
    "    # idx = 3, measure \"Z\"\n",
    "    \n",
    "    if idx == 0:\n",
    "        return 1\n",
    "    elif idx == 1:\n",
    "        qc = get_qc('1q-qvm')\n",
    "        p += H(0)\n",
    "        p += MEASURE(0,ro[0])\n",
    "        exe = qc.compile(p)\n",
    "        res = qc.run(exe)\n",
    "        probs = estimate_bitstring_probs(res)\n",
    "        return probs[0] - probs[1]\n",
    "\n",
    "    elif idx == 2:\n",
    "        qc = get_qc('1q-qvm')\n",
    "        p += RX(np.pi/2,0)\n",
    "        p += MEASURE(0,ro[0])\n",
    "        exe = qc.compile(p)\n",
    "        res = qc.run(exe)\n",
    "        probs = estimate_bitstring_probs(res)\n",
    "        return probs[0] - probs[1]\n",
    "    elif idx == 3:\n",
    "        qc = get_qc('1q-qvm')\n",
    "        p += MEASURE(0,ro[0])\n",
    "        exe = qc.compile(p)\n",
    "        res = qc.run(exe)\n",
    "        probs = estimate_bitstring_probs(res)\n",
    "        return probs[0] - probs[1]\n",
    "\n",
    "def measure_energy(nn,alist,shots):\n",
    "    p = Program()\n",
    "    p.wrap_in_numshots_loop(shots)\n",
    "    # declare a 1 bit memory space ro (read-out) for measurement\n",
    "    ro = p.declare('ro','BIT',1)\n",
    "    ansatz(p)\n",
    "    Energy = measure(p,ro,3)\n",
    "    return Energy\n",
    "\n",
    "E[0] = measure_energy(0,alist,shots)\n",
    "print('Initial energy is: ',E[0])"
   ]
  },
  {
   "cell_type": "markdown",
   "metadata": {},
   "source": [
    "Now we try to implement the QITE protocol. It will be good to have a big picture of what should be done. We step through imaginary time and at each time step, we should first measure the expectation values of the pauli matrices $\\sigma$. This is indicated in the first two lines of the for loop. Using the relevant expectation values, we obtain the coefficients $a[m]$ in equation (2.5) of Lecture 12 using the update rule in equation (2.9-2.11). We store it in a list and use this to propagate our state. Note we have to always reconstruct our state for each new measurements we make. Finally, we measure the current energy values. Let us construct the required functions starting with **get_expectation**"
   ]
  },
  {
   "cell_type": "code",
   "execution_count": null,
   "metadata": {},
   "outputs": [],
   "source": [
    "'''\n",
    "for i in range(1,n+1):\n",
    "    sigma_expectation = np.zeros([4],dtype=complex)\n",
    "    sigma_expectation = get_expectation(i,xlist,shots)\n",
    "    update_alist(sigma_expectation,alist,db,shots)\n",
    "    E[i] = measure_energy(i,alist,shots)\n",
    "'''"
   ]
  },
  {
   "cell_type": "markdown",
   "metadata": {},
   "source": [
    "$\\newcommand{\\braket}[2]{\\left\\langle{#1}\\middle|{#2}\\right\\rangle}$\n",
    "$\\newcommand{\\ket}[1]{\\left|{#1}\\right\\rangle}$\n",
    "$\\newcommand{\\bra}[1]{\\left\\langle{#1}\\right|}$\n",
    "\n",
    "We make use of the **measure** function we constructed earlier. The key here is to propagate our state using the coefficients in alist. We do this using the **propagate** function. In propagate **propagate**, we loop through the different values store in alist to construct the states. alist is stored as a list of lists and the indices are a[timestep][gate]. The indices of gate are as follows: \n",
    "<br>\n",
    "<br>\n",
    "1 stores a[x]: $e^{-ia[x]\\Delta\\tau\\hat{X}}$\n",
    "<br>\n",
    "2 stores a[y]: $e^{-ia[y]\\Delta\\tau\\hat{Y}}$\n",
    "<br>\n",
    "3 stores a[z]: $e^{-ia[z]\\Delta\\tau\\hat{Z}}$\n",
    "<br>\n",
    "<br>\n",
    "The 0 index stores the coefficient for the identity matrix $\\hat{I}$, which is a global phase that we can ignore."
   ]
  },
  {
   "cell_type": "code",
   "execution_count": 19,
   "metadata": {},
   "outputs": [],
   "source": [
    "def get_expectation(i,alist,shots):\n",
    "    sigma_expectation = np.zeros([4],dtype=complex)\n",
    "    for j in range(4):\n",
    "        p = Program()\n",
    "        p.wrap_in_numshots_loop(shots)\n",
    "        ro = p.declare('ro','BIT',1)\n",
    "        ansatz(p)\n",
    "        propagate(p,alist,i-1)\n",
    "        sigma_expectation[j] = measure(p,ro,j)\n",
    "    return sigma_expectation\n",
    "\n",
    "def propagate(p,alist,i):\n",
    "    if i == 0:\n",
    "        None\n",
    "    else:\n",
    "        for t in range(i):\n",
    "            for gate in range(1,4):\n",
    "                angle = np.real(alist[t][gate])\n",
    "                if gate == 1:\n",
    "                    p += RX(angle,0)\n",
    "                \n",
    "                # 2(a) Fill in the missing gates here\n",
    "                elif gate == 2:\n",
    "                    p += RY(angle,0)\n",
    "                elif gate == 3:\n",
    "                    p += RZ(angle,0)\n",
    "                else:\n",
    "                    raise ValueError"
   ]
  },
  {
   "cell_type": "markdown",
   "metadata": {},
   "source": [
    "$\\newcommand{\\braket}[2]{\\left\\langle{#1}\\middle|{#2}\\right\\rangle}$\n",
    "$\\newcommand{\\ket}[1]{\\left|{#1}\\right\\rangle}$\n",
    "$\\newcommand{\\bra}[1]{\\left\\langle{#1}\\right|}$\n",
    "\n",
    "We now want to obtain the coefficients a[m] at the current time step and append to alist. To do this, we need to construct the matrix $S_{ij} = \\bra{\\psi}\\sigma_{i}\\sigma_{j}\\ket{\\psi}$ and the vector $b_{i}$. Well, our earlier functions allow us to measure the expectation values of the different pauli matrices. How do we obtain $S_{ij}$ from a list of $\\bra{\\psi}\\sigma\\ket{\\psi}$? We can exploit the fact that up to some coefficients, $\\sigma_{i}\\sigma_{j} = c_{ij}\\sigma_{ij}$. For example, $\\sigma_{x}\\sigma_{y} = i\\sigma_{z}$. We will need a matrix to keep track of what pauli matrix and coefficient we get for $\\sigma_{i}\\sigma_{j}$. I constructed these and stored it in the matrices **index** and **coefficient** below.\n"
   ]
  },
  {
   "cell_type": "code",
   "execution_count": 22,
   "metadata": {},
   "outputs": [
    {
     "name": "stdout",
     "output_type": "stream",
     "text": [
      "[[0 1 2 3]\n",
      " [1 0 3 2]\n",
      " [2 3 0 1]\n",
      " [3 2 1 0]]\n",
      "[[ 1.+0.j  1.+0.j  1.+0.j  1.+0.j]\n",
      " [ 1.+0.j  1.+0.j  0.+1.j -0.-1.j]\n",
      " [ 1.+0.j -0.-1.j  1.+0.j  0.+1.j]\n",
      " [ 1.+0.j  0.+1.j -0.-1.j  1.+0.j]]\n"
     ]
    }
   ],
   "source": [
    "index = np.zeros([4,4],dtype=int)\n",
    "index[0,0] = 0\n",
    "index[0,1] = 1\n",
    "index[0,2] = 2\n",
    "index[0,3] = 3\n",
    "index[1,0] = 1\n",
    "index[1,1] = 0\n",
    "index[1,2] = 3\n",
    "index[1,3] = 2\n",
    "index[2,0] = 2\n",
    "index[2,1] = 3\n",
    "index[2,2] = 0\n",
    "index[2,3] = 1\n",
    "index[3,0] = 3\n",
    "index[3,1] = 2\n",
    "index[3,2] = 1\n",
    "index[3,3] = 0\n",
    "\n",
    "coefficient = np.zeros([4,4],dtype=complex)\n",
    "coefficient[0,0] = 1\n",
    "coefficient[0,1] = 1\n",
    "coefficient[0,2] = 1\n",
    "coefficient[0,3] = 1\n",
    "coefficient[1,0] = 1\n",
    "coefficient[1,1] = 1\n",
    "coefficient[1,2] = 1j\n",
    "coefficient[1,3] = -1j\n",
    "coefficient[2,0] = 1\n",
    "coefficient[2,1] = -1j\n",
    "coefficient[2,2] = 1\n",
    "coefficient[2,3] = 1j\n",
    "coefficient[3,0] = 1\n",
    "coefficient[3,1] = 1j\n",
    "coefficient[3,2] = -1j\n",
    "coefficient[3,3] = 1\n",
    "\n",
    "print(index)\n",
    "print(coefficient)"
   ]
  },
  {
   "cell_type": "markdown",
   "metadata": {},
   "source": [
    "$\\newcommand{\\braket}[2]{\\left\\langle{#1}\\middle|{#2}\\right\\rangle}$\n",
    "$\\newcommand{\\ket}[1]{\\left|{#1}\\right\\rangle}$\n",
    "$\\newcommand{\\bra}[1]{\\left\\langle{#1}\\right|}$\n",
    "\n",
    "3. Using this, we can construct the S matrix and b vector. I did it for you in the code segment below. What I want is for you to use these, and the function np.linalg.std to solve for x in equation 2.9. Because the rotation gate is defined as $e^{-i\\theta/2\\sigma}$, you have to multiply 2 to the x you obtained before storing them in alist (_5 marks_)."
   ]
  },
  {
   "cell_type": "code",
   "execution_count": 23,
   "metadata": {},
   "outputs": [],
   "source": [
    "def update_alist(sigma_expectation,alist,db,shots):\n",
    "\n",
    "    # Obtain S matrix\n",
    "    S = np.zeros([4,4],dtype=complex)\n",
    "    for i in range(4):\n",
    "        for j in range(4):\n",
    "            S[i,j] = sigma_expectation[index[i,j]]*coefficient[i,j]\n",
    "\n",
    "    # Obtain b vector\n",
    "    b = np.zeros([4],dtype=complex)\n",
    "    c = 1\n",
    "    wt = 1;\n",
    "    hm = 3;\n",
    "    c -= 2*db*wt*sigma_expectation[hm]\n",
    "    c = np.sqrt(c)\n",
    "    for i in range(4):\n",
    "        b[i] += (sigma_expectation[i]/c-sigma_expectation[i])/(db)\n",
    "        b[i] -= wt*coefficient[i,hm]*sigma_expectation[index[i,hm]]/c\n",
    "        b[i] = -1j*b[i] + 1j*np.conj(b[i])\n",
    "\n",
    "    # 3(a) Solve for x using np.linalg.lstsq and append your results to alist. Remember to multiply by 2.\n",
    "    x = np.linalg.lstsq(S+np.transpose(S),-b,rcond=-1)[0]\n",
    "    alist.append([])\n",
    "    for i in range(len (x)):\n",
    "        alist[-1].append(x[i]*2)"
   ]
  },
  {
   "cell_type": "markdown",
   "metadata": {},
   "source": [
    "$\\newcommand{\\braket}[2]{\\left\\langle{#1}\\middle|{#2}\\right\\rangle}$\n",
    "$\\newcommand{\\ket}[1]{\\left|{#1}\\right\\rangle}$\n",
    "$\\newcommand{\\bra}[1]{\\left\\langle{#1}\\right|}$\n",
    "\n",
    "4. The final thing to do is to modify **measure_energy** to make sure we measure the energy of the propagated states (_2marks_)."
   ]
  },
  {
   "cell_type": "code",
   "execution_count": 24,
   "metadata": {},
   "outputs": [],
   "source": [
    "def measure_energy(nn,alist,shots):\n",
    "    p = Program()\n",
    "    p.wrap_in_numshots_loop(shots)\n",
    "    ro = p.declare('ro','BIT',1)\n",
    "    ansatz(p)\n",
    "    \n",
    "    # 4(a) Make sure we get the proper state before measuring the energy\n",
    "    propagate(p,alist,nn)\n",
    "    Energy = measure(p,ro,3)\n",
    "    return Energy"
   ]
  },
  {
   "cell_type": "markdown",
   "metadata": {},
   "source": [
    "5. Now plot how the energy varies with imaginary time (_3 mark_)."
   ]
  },
  {
   "cell_type": "code",
   "execution_count": 8,
   "metadata": {},
   "outputs": [
    {
     "name": "stderr",
     "output_type": "stream",
     "text": [
      "/home/abao/anaconda3/lib/python3.7/site-packages/numpy/core/_asarray.py:85: ComplexWarning: Casting complex values to real discards the imaginary part\n",
      "  return array(a, dtype, copy=False, order=order)\n"
     ]
    },
    {
     "data": {
      "image/png": "[encoded data removed]",
      "text/plain": [
       "<Figure size 432x288 with 1 Axes>"
      ]
     },
     "metadata": {
      "needs_background": "light"
     },
     "output_type": "display_data"
    }
   ],
   "source": [
    "db = 0.1\n",
    "for i in range(1,n+1):\n",
    "    sigma_expectation = np.zeros([4],dtype=complex)\n",
    "    sigma_expectation = get_expectation(i,alist,shots)\n",
    "    update_alist(sigma_expectation,alist,db,shots)\n",
    "    E[i] = measure_energy(i,alist,shots)\n",
    "\n",
    "import matplotlib.pyplot as plt\n",
    "%matplotlib inline  \n",
    "plt.plot(np.arange(0,n+1)*db,E,'ro')\n",
    "plt.grid()\n",
    "plt.show()"
   ]
  },
  {
   "cell_type": "markdown",
   "metadata": {},
   "source": [
    "6. Modify the ansatz to start from $\\ket{0}$, and plot the energy against imaginary time. Explain your results (_2 marks_)."
   ]
  },
  {
   "cell_type": "code",
   "execution_count": null,
   "metadata": {},
   "outputs": [],
   "source": []
  }
 ],
 "metadata": {
  "kernelspec": {
   "display_name": "Python 3",
   "language": "python",
   "name": "python3"
  },
  "language_info": {
   "codemirror_mode": {
    "name": "ipython",
    "version": 3
   },
   "file_extension": ".py",
   "mimetype": "text/x-python",
   "name": "python",
   "nbconvert_exporter": "python",
   "pygments_lexer": "ipython3",
   "version": "3.7.4"
  }
 },
 "nbformat": 4,
 "nbformat_minor": 2
}
