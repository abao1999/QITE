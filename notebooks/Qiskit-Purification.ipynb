{
 "cells": [
  {
   "cell_type": "markdown",
   "metadata": {},
   "source": [
    "# Purification of Mixed States for Thermal Averages\n",
    "Purification of an arbitrary mixed quantum state allows for finite temperature calculations. Approach is from this paper: https://arxiv.org/pdf/1008.3477.pdf\n",
    "\n",
    "Let $\\rho = \\sum_{i=1}^{n} p_{i} |i \\rangle \\langle i|$, for some orthonormal basis $\\{ |i \\rangle \\}$, be a density matrix acting on Hilbert space $\\mathcal{H}_{A}$ of finite dimension $n$. We can construct a second auxiliary Hilbert space $\\mathcal{H}_{B}$ with dimension greater than or equal to $n$, and with an orthonormal basis $\\{ |i' \\rangle\\}$, and define a pure state $| \\psi \\rangle \\in \\mathcal{H}_{A} \\otimes \\mathcal{H}_{B}$ as $| \\psi \\rangle = \\sum_{i} \\sqrt{p_{i}} |i \\rangle \\otimes |i' \\rangle$. A mixed state in $\\mathcal{H}_{A}$ can be interpreted as the partial trace of a Schmidt decomposition of a pure state in $\\mathcal{H}_{A} \\otimes \\mathcal{H}_{B}$. In other words, $\\rho$ is the partial trace of $| \\psi \\rangle \\langle \\psi |$ with respect to $\\mathcal{H}_{B}$. Therefore, $| \\psi \\rangle$ is a purification of $\\rho$. More broadly, a pure state $| \\psi \\rangle$ purifies a mixed state represented by $\\rho$ if $Tr_{B} \\left( | \\psi \\rangle \\langle \\psi | \\right) = \\rho$. Note that since purification requires diagonalizing the density matrix $\\rho$, it is in general only feasible numerically.\n",
    "\n",
    "We can extend this to the study of finite temperature states at thermal equilibrium by considering a thermal density matrix $\\rho_{\\beta}$. Consider a quantum system in a pure state $| \\psi \\rangle \\in \\mathcal{H}_{A}$, whose Hamiltonian $H$ has eigenstates $| \\psi_{i} \\rangle$ and energy eigenvalues $E_{i}$. The system's density matrix operator is $\\rho = | \\psi \\rangle \\langle \\psi |$, and if we put the system in contact with a heat bath, each eigenstate $| \\psi_{i} \\rangle$ is assigned a classical probability $p_{i}$, so that $\\rho_{\\beta} = \\sum_{i} p_{i} | \\psi_{i} \\rangle \\langle \\psi_{i} |$ is the thermal density matrix. In the canonical ensemble at finite temperature $T$, the probabilities are proportional to the Boltzmann factor: $p_{i} \\propto e^{- \\beta E_{i}}$, where $1/\\beta = k_{B}T$. Thus, $\\rho_{\\beta} = \\frac{1}{Z(\\beta)} \\sum_{i} e^{- \\beta E_{i}} | \\psi_{i} \\rangle \\langle \\psi_{i} | = \\frac{1}{Z(\\beta)} e^{- \\beta H}$ where the canonical partition function is $Z(\\beta) = Tr_{A} e^{- \\beta H} = \\sum_{i} e^{- \\beta E_{i}}$\n",
    "\n",
    "$$\\rho_{\\beta} = \\frac{1}{Z(\\beta)} e^{- \\beta H} = \\frac{1}{Z(\\beta)} e^{- \\beta H/2} I e^{- \\beta H/2}$$\n",
    "\n",
    "Note that the identity is equivalent to the product of the infinite temperature partition function and infinite temperature density operator: $I = Z(0) \\rho_{0}$. Assuming that the purification of $\\rho_{0}$ is a matrix product state (MPS) denoted by $| \\psi_{\\beta=0} \\rangle$:\n",
    "\n",
    "$$\\rho_{\\beta} = \\frac{Z(0)}{Z(\\beta)} e^{- \\beta H/2} Tr_{B} \\left( |\\psi_{0} \\rangle \\langle \\psi_{0} |\\right) e^{- \\beta H/2} = \\frac{Z(0)}{Z(\\beta)} Tr_{B} \\left( e^{-\\beta H/2} |\\psi_{0} \\rangle \\langle \\psi_{0} | e^{- \\beta H/2} \\right)$$\n",
    "\n",
    "We can ignore the trace over the auxiliary Hilbert space, $Tr_{B}$, because the Hamiltonian does not physically act on the auxiliary space. However, to reach a state with inverse temperature $\\beta$, we must apply imaginary time evolution up to imaginary time $\\beta / 2$. Explicitly, $| \\psi_{\\beta} \\rangle = e^{- \\beta H/2} | \\psi_{0} \\rangle$. We can thus calculate the expectation of any operator $O$ at inverse temperature $\\beta$ by:\n",
    "\n",
    "$$ {\\langle O \\rangle}_{\\beta} = Tr_{A} O \\rho_{\\beta} = \\frac{Z(0)}{Z(\\beta)} Tr_{A} \\left( O Tr_{B} \\left( | \\psi_{\\beta} \\rangle \\langle \\psi_{\\beta} |  \\right) \\right) = \\frac{Z(0)}{Z(\\beta)} \\langle \\psi_{\\beta} | O | \\psi_{\\beta} \\rangle$$\n",
    "\n",
    "From the expectation of the Identity, we have:\n",
    "\n",
    "$$ 1 = {\\langle I \\rangle}_{\\beta} = Tr_{A} \\rho_{\\beta} = \\frac{Z(0)}{Z(\\beta)} \\langle \\psi_{\\beta} | \\psi_{\\beta} \\rangle \\implies \\frac{Z(\\beta)}{Z(0)} = \\langle \\psi_{\\beta} | \\psi_{\\beta} \\rangle$$\n",
    "\n",
    "From this result, we get the familiar expression:\n",
    "\n",
    "$$ {\\langle O \\rangle}_{\\beta} = \\frac{\\langle \\psi_{\\beta} | O | \\psi_{\\beta} \\rangle}{\\langle \\psi_{\\beta} | \\psi_{\\beta} \\rangle} $$\n",
    "\n",
    "Hence, to calculate expectation values of an operator at inverse time $\\beta$, we start from the purification $| \\psi_{0} \\rangle$ of the infinite temperature density operator $\\rho_{0}$. We apply imaginary time evolution up to imaginary time $\\beta / 2$ and then calculate the expectation value as we would for a pure state. For finite temperature $T$, subsequent time evolution of the purified state $| \\psi_{\\beta} \\rangle$ can give us additional thermodynamic quantities.\n",
    "\n",
    "The following infinite temperature identities are useful: $Z(0) = d^{N}$ and $\\rho_{0} = \\frac{1}{d^{N}} I = {\\left( \\frac{1}{d} I \\right)}^{\\otimes N}$. It is also useful to visualize what is happening schematically. Essentially, the finite temperature thermal states are estimated by using ancilla, transforming a chain of $N$ physical qubits into a ladder of $2N$ qubits by copying the physical chain into an auxiliary chain. Each site on the auxiliary chain serves to thermalize the corresponding physical site. Hence, the equivalent sites on the ladder are connected by maximally entangled states, and moving to an inverse temperature $\\beta$ requires imaginary time evolution. \n",
    "\n",
    "\n",
    "Therefore, this ancilla method of estimating thermal states becomes straightforward to implement. We start from a many-body identity operator on $N$ sites, which we interpret as a pure state of maximally entangled pairs of $2N$ sites in the ladder. We then evolve this state for a total imaginary time of $\\beta / 2$, which yields an approximation of the $e^{- \\beta H / 2}$ operator. We finally compute thermal expectation values by tracing two copies of $e^{- \\beta H / 2}$ with the desired observable.\n",
    "\n",
    "Paper on a hybrid Metts and Purification approach: https://arxiv.org/pdf/1910.09142.pdf"
   ]
  },
  {
   "cell_type": "code",
   "execution_count": null,
   "metadata": {},
   "outputs": [],
   "source": []
  },
  {
   "cell_type": "raw",
   "metadata": {},
   "source": []
  },
  {
   "cell_type": "code",
   "execution_count": null,
   "metadata": {},
   "outputs": [],
   "source": []
  }
 ],
 "metadata": {
  "kernelspec": {
   "display_name": "Python 3",
   "language": "python",
   "name": "python3"
  },
  "language_info": {
   "codemirror_mode": {
    "name": "ipython",
    "version": 3
   },
   "file_extension": ".py",
   "mimetype": "text/x-python",
   "name": "python",
   "nbconvert_exporter": "python",
   "pygments_lexer": "ipython3",
   "version": "3.7.4"
  }
 },
 "nbformat": 4,
 "nbformat_minor": 2
}
