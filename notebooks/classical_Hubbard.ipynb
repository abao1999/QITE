{
 "cells": [
  {
   "cell_type": "code",
   "execution_count": 1,
   "metadata": {},
   "outputs": [],
   "source": [
    "import sys\n",
    "sys.path.append('classical')"
   ]
  },
  {
   "cell_type": "code",
   "execution_count": 2,
   "metadata": {},
   "outputs": [],
   "source": [
    "import numpy as np\n",
    "import matplotlib.pyplot as plt\n",
    "from scipy.linalg import expm \n",
    "from binary_functions import Int2Bas,Bas2Int,Opp2Str,Str2Opp\n",
    "from Pmn import PPmunu"
   ]
  },
  {
   "cell_type": "code",
   "execution_count": 12,
   "metadata": {},
   "outputs": [
    {
     "name": "stdout",
     "output_type": "stream",
     "text": [
      "The exact solution is  -1.2360679774997898\n"
     ]
    }
   ],
   "source": [
    "t_hubbard = 1\n",
    "U_hubbard = 2\n",
    "beta = 2.0\n",
    "sigma = np.zeros([2, 2, 4], dtype=complex)\n",
    "sigma[0, 0, 0] = 1.\n",
    "sigma[1, 1, 0] = 1.\n",
    "sigma[0, 1, 1] = 1.\n",
    "sigma[1, 0, 1] = 1.\n",
    "sigma[0, 1, 2] = -1j\n",
    "sigma[1, 0, 2] = 1j\n",
    "sigma[0, 0, 3] = 1.\n",
    "sigma[1, 1, 3] = -1.\n",
    "N = 10 # Number of imaginary time steps\n",
    "\n",
    "# Defining the Hamiltonian\n",
    "Hamiltonian = -t_hubbard * (np.kron(sigma[:, :, 1], sigma[:, :, 0]) + np.kron(sigma[:, :, 0], sigma[:, :, 1])) \\\n",
    "             + U_hubbard / 2 * (np.kron(sigma[: ,:, 0], sigma[: ,:, 0]) + np.kron(sigma[:, :, 3], sigma[:, :, 3]))\n",
    "w, v = np.linalg.eigh(Hamiltonian)\n",
    "print('The exact solution is ', w[0])"
   ]
  },
  {
   "cell_type": "code",
   "execution_count": 13,
   "metadata": {},
   "outputs": [
    {
     "name": "stdout",
     "output_type": "stream",
     "text": [
      "Final energy at beta 2.0 is  -1.2360397973284418\n"
     ]
    }
   ],
   "source": [
    "# Classical trajectory\n",
    "\n",
    "# List to store energy values\n",
    "energy_classical_list = []\n",
    "energy_qite_list = []\n",
    "\n",
    "# Initialize into |00> state\n",
    "psi = np.array([1,0,0,0],dtype=complex)\n",
    "psi = psi/np.linalg.norm(psi)\n",
    "\n",
    "db = beta/N\n",
    "expmH = expm(-db * Hamiltonian)\n",
    "phi = psi\n",
    "\n",
    "# Store the energy for initial wavefunction\n",
    "e = np.matmul(Hamiltonian, phi)\n",
    "e = np.real(np.matmul(np.transpose(np.conj(phi)), e))\n",
    "energy_classical_list.append(e)\n",
    "\n",
    "# Perform imaginary time evolution\n",
    "for i in range(0,N):\n",
    "\n",
    "    # Perform imaginary time evolution\n",
    "    phi = np.matmul(expmH, phi)\n",
    "\n",
    "    # Require normalization because imaginary time evolution is non-unitary\n",
    "    phi = phi / np.linalg.norm(phi)\n",
    "\n",
    "    # Store the energy values at each step\n",
    "    e = np.matmul(Hamiltonian, phi)\n",
    "    e = np.real(np.matmul(np.transpose(np.conj(phi)), e))\n",
    "    energy_classical_list.append(e)\n",
    "print('Final energy at beta', beta, 'is ', e)"
   ]
  },
  {
   "cell_type": "markdown",
   "metadata": {},
   "source": [
    "## QITE Approximation"
   ]
  },
  {
   "cell_type": "code",
   "execution_count": 15,
   "metadata": {},
   "outputs": [
    {
     "name": "stdout",
     "output_type": "stream",
     "text": [
      "[[ 0  1  2  3  4  5  6  7  8  9 10 11 12 13 14 15]\n",
      " [ 1  0  3  2  5  4  7  6  9  8 11 10 13 12 15 14]\n",
      " [ 2  3  0  1  6  7  4  5 10 11  8  9 14 15 12 13]\n",
      " [ 3  2  1  0  7  6  5  4 11 10  9  8 15 14 13 12]\n",
      " [ 4  5  6  7  0  1  2  3 12 13 14 15  8  9 10 11]\n",
      " [ 5  4  7  6  1  0  3  2 13 12 15 14  9  8 11 10]\n",
      " [ 6  7  4  5  2  3  0  1 14 15 12 13 10 11  8  9]\n",
      " [ 7  6  5  4  3  2  1  0 15 14 13 12 11 10  9  8]\n",
      " [ 8  9 10 11 12 13 14 15  0  1  2  3  4  5  6  7]\n",
      " [ 9  8 11 10 13 12 15 14  1  0  3  2  5  4  7  6]\n",
      " [10 11  8  9 14 15 12 13  2  3  0  1  6  7  4  5]\n",
      " [11 10  9  8 15 14 13 12  3  2  1  0  7  6  5  4]\n",
      " [12 13 14 15  8  9 10 11  4  5  6  7  0  1  2  3]\n",
      " [13 12 15 14  9  8 11 10  5  4  7  6  1  0  3  2]\n",
      " [14 15 12 13 10 11  8  9  6  7  4  5  2  3  0  1]\n",
      " [15 14 13 12 11 10  9  8  7  6  5  4  3  2  1  0]]\n",
      "[[ 1.+0.j  1.+0.j  1.+0.j  1.+0.j  1.+0.j  1.+0.j  1.+0.j  1.+0.j  1.+0.j\n",
      "   1.+0.j  1.+0.j  1.+0.j  1.+0.j  1.+0.j  1.+0.j  1.+0.j]\n",
      " [ 1.+0.j  1.+0.j  0.+1.j  0.-1.j  1.+0.j  1.+0.j  0.+1.j  0.-1.j  1.+0.j\n",
      "   1.+0.j  0.+1.j  0.-1.j  1.+0.j  1.+0.j  0.+1.j  0.-1.j]\n",
      " [ 1.+0.j  0.-1.j  1.+0.j  0.+1.j  1.+0.j  0.-1.j  1.+0.j  0.+1.j  1.+0.j\n",
      "   0.-1.j  1.+0.j  0.+1.j  1.+0.j  0.-1.j  1.+0.j  0.+1.j]\n",
      " [ 1.+0.j  0.+1.j  0.-1.j  1.+0.j  1.+0.j  0.+1.j  0.-1.j  1.+0.j  1.+0.j\n",
      "   0.+1.j  0.-1.j  1.+0.j  1.+0.j  0.+1.j  0.-1.j  1.+0.j]\n",
      " [ 1.+0.j  1.+0.j  1.+0.j  1.+0.j  1.+0.j  1.+0.j  1.+0.j  1.+0.j  0.+1.j\n",
      "   0.+1.j  0.+1.j  0.+1.j  0.-1.j  0.-1.j  0.-1.j  0.-1.j]\n",
      " [ 1.+0.j  1.+0.j  0.+1.j  0.-1.j  1.+0.j  1.+0.j  0.+1.j  0.-1.j  0.+1.j\n",
      "   0.+1.j -1.+0.j  1.-0.j  0.-1.j  0.-1.j  1.-0.j -1.+0.j]\n",
      " [ 1.+0.j  0.-1.j  1.+0.j  0.+1.j  1.+0.j  0.-1.j  1.+0.j  0.+1.j  0.+1.j\n",
      "   1.-0.j  0.+1.j -1.+0.j  0.-1.j -1.+0.j  0.-1.j  1.-0.j]\n",
      " [ 1.+0.j  0.+1.j  0.-1.j  1.+0.j  1.+0.j  0.+1.j  0.-1.j  1.+0.j  0.+1.j\n",
      "  -1.+0.j  1.-0.j  0.+1.j  0.-1.j  1.-0.j -1.+0.j  0.-1.j]\n",
      " [ 1.+0.j  1.+0.j  1.+0.j  1.+0.j  0.-1.j  0.-1.j  0.-1.j  0.-1.j  1.+0.j\n",
      "   1.+0.j  1.+0.j  1.+0.j  0.+1.j  0.+1.j  0.+1.j  0.+1.j]\n",
      " [ 1.+0.j  1.+0.j  0.+1.j  0.-1.j  0.-1.j  0.-1.j  1.-0.j -1.+0.j  1.+0.j\n",
      "   1.+0.j  0.+1.j  0.-1.j  0.+1.j  0.+1.j -1.+0.j  1.-0.j]\n",
      " [ 1.+0.j  0.-1.j  1.+0.j  0.+1.j  0.-1.j -1.+0.j  0.-1.j  1.-0.j  1.+0.j\n",
      "   0.-1.j  1.+0.j  0.+1.j  0.+1.j  1.-0.j  0.+1.j -1.+0.j]\n",
      " [ 1.+0.j  0.+1.j  0.-1.j  1.+0.j  0.-1.j  1.-0.j -1.+0.j  0.-1.j  1.+0.j\n",
      "   0.+1.j  0.-1.j  1.+0.j  0.+1.j -1.+0.j  1.-0.j  0.+1.j]\n",
      " [ 1.+0.j  1.+0.j  1.+0.j  1.+0.j  0.+1.j  0.+1.j  0.+1.j  0.+1.j  0.-1.j\n",
      "   0.-1.j  0.-1.j  0.-1.j  1.+0.j  1.+0.j  1.+0.j  1.+0.j]\n",
      " [ 1.+0.j  1.+0.j  0.+1.j  0.-1.j  0.+1.j  0.+1.j -1.+0.j  1.-0.j  0.-1.j\n",
      "   0.-1.j  1.-0.j -1.+0.j  1.+0.j  1.+0.j  0.+1.j  0.-1.j]\n",
      " [ 1.+0.j  0.-1.j  1.+0.j  0.+1.j  0.+1.j  1.-0.j  0.+1.j -1.+0.j  0.-1.j\n",
      "  -1.+0.j  0.-1.j  1.-0.j  1.+0.j  0.-1.j  1.+0.j  0.+1.j]\n",
      " [ 1.+0.j  0.+1.j  0.-1.j  1.+0.j  0.+1.j -1.+0.j  1.-0.j  0.+1.j  0.-1.j\n",
      "   1.-0.j -1.+0.j  0.-1.j  1.+0.j  0.+1.j  0.-1.j  1.+0.j]]\n"
     ]
    }
   ],
   "source": [
    "# First populate the Lie algebra rules\n",
    "index = np.zeros([4**2,4**2],dtype=int)\n",
    "coeff = np.zeros([4**2,4**2],dtype=complex)\n",
    "\n",
    "row = 0\n",
    "for i in range(4**2):\n",
    "    column = 0\n",
    "    for j in range(4**2):\n",
    "        Pnu = Opp2Str(Int2Bas(column,4,2))\n",
    "        Pmu = Opp2Str(Int2Bas(row,4,2))\n",
    "        A = Pmu[0] + Pnu[0]\n",
    "        B = Pmu[1] + Pnu[1]\n",
    "        A,intA = PPmunu(A)\n",
    "        B,intB = PPmunu(B)\n",
    "        index[i,j] = Bas2Int(Str2Opp(A+B),4)\n",
    "        coeff[i,j] = intA*intB\n",
    "        column += 1\n",
    "    row += 1\n",
    "    \n",
    "print(index)\n",
    "print(coeff)"
   ]
  },
  {
   "cell_type": "code",
   "execution_count": 22,
   "metadata": {},
   "outputs": [
    {
     "name": "stdout",
     "output_type": "stream",
     "text": [
      "We start QITE now\n",
      "Final energy from QITE is  -1.2360573604254377\n"
     ]
    }
   ],
   "source": [
    "# QITE trajectory\n",
    "\n",
    "phi = psi\n",
    "# Store the energy for initial wavefunction\n",
    "e = np.matmul(Hamiltonian, phi)\n",
    "e = np.real(np.matmul(np.transpose(np.conj(phi)), e))\n",
    "energy_qite_list.append(e)\n",
    "\n",
    "print('We start QITE now')\n",
    "for i in range(0,N):\n",
    "\n",
    "    # First construct Pmu_expectation matrices\n",
    "    Pmu_expectation = np.zeros([16], dtype=complex)\n",
    "    for Pmu in range(2**4):\n",
    "        ops = Int2Bas(Pmu, 4, 2)\n",
    "        operator = np.kron(sigma[:, :, ops[0]], sigma[:, :, ops[1]])\n",
    "        Pmu_expectation[Pmu] = np.matmul(np.transpose(np.conj(phi)), np.matmul(operator, phi))\n",
    "\n",
    "    # Now construct S matrix\n",
    "    S = np.zeros([16, 16], dtype=complex)\n",
    "    for i in range(16):\n",
    "        for j in range(16):\n",
    "            S[i,j] = Pmu_expectation[index[i, j]]*coeff[i, j]\n",
    "\n",
    "    # Now construct b vector\n",
    "    b = np.zeros([16], dtype=complex)\n",
    "    c = 1\n",
    "\n",
    "    # We will hardcode in the QITE step\n",
    "\n",
    "    c -= 2 * db * (-t_hubbard) * Pmu_expectation[1]\n",
    "    c -= 2 * db * (-t_hubbard) * Pmu_expectation[4]\n",
    "    c -= 2 * db * (U_hubbard / 2) * Pmu_expectation[0]\n",
    "    c -= 2 * db * (U_hubbard / 2) * Pmu_expectation[15]\n",
    "    c = np.sqrt(c)\n",
    "    \n",
    "    for i in range(16):\n",
    "        b[i] += (Pmu_expectation[i] / c - Pmu_expectation[i]) / db\n",
    "        b[i] -= (-t_hubbard) * coeff[i, 1] * Pmu_expectation[index[i, 1]] / c\n",
    "        b[i] -= (-t_hubbard) * coeff[i, 4] * Pmu_expectation[index[i, 4]] / c\n",
    "        b[i] -= (U_hubbard / 2) * coeff[i, 0] * Pmu_expectation[index[i, 0]] / c\n",
    "        b[i] -= (U_hubbard / 2) * coeff[i, 15] * Pmu_expectation[index[i, 15]] / c\n",
    "        b[i] = 1j * b[i] - 1j * np.conj(b[i])\n",
    "\n",
    "    # Obtain x \n",
    "    dalpha = np.eye(16) * 0.01\n",
    "    x = np.linalg.lstsq(S + np.transpose(S) + dalpha, -b, rcond=-1)[0]\n",
    "\n",
    "    # Classical evolution\n",
    "    U = np.eye(4)\n",
    "    for i in range(len(x)):\n",
    "        ops = Int2Bas(i, 4, 2)\n",
    "        operator = np.kron(sigma[:, :, ops[0]], sigma[:, :, ops[1]])\n",
    "        U = np.matmul(expm(1j * db * x[i] * operator), U)\n",
    "    phi = np.matmul(U, phi)\n",
    "    \n",
    "    e = np.matmul(Hamiltonian, phi)\n",
    "    e = np.real(np.matmul(np.transpose(np.conj(phi)), e))\n",
    "    energy_qite_list.append(e)\n",
    "print('Final energy from QITE is ', e)\n"
   ]
  },
  {
   "cell_type": "code",
   "execution_count": 6,
   "metadata": {},
   "outputs": [
    {
     "data": {
      "image/png": "[encoded data removed]",
      "text/plain": [
       "<Figure size 432x288 with 1 Axes>"
      ]
     },
     "metadata": {
      "needs_background": "light"
     },
     "output_type": "display_data"
    }
   ],
   "source": [
    "plt.figure()\n",
    "beta_list = np.asarray(range(0, N+1)) * db\n",
    "plt.plot(beta_list, energy_classical_list, '-bo', label='Exact trajectory')\n",
    "plt.plot(beta_list, energy_qite_list, '-ro', label='QITE approximation')\n",
    "plt.plot([beta_list[0], beta_list[-1]], [w[0], w[0]], '--k', label='Ground state')\n",
    "plt.legend()\n",
    "plt.show()"
   ]
  }
 ],
 "metadata": {
  "kernelspec": {
   "display_name": "Python 3",
   "language": "python",
   "name": "python3"
  },
  "language_info": {
   "codemirror_mode": {
    "name": "ipython",
    "version": 3
   },
   "file_extension": ".py",
   "mimetype": "text/x-python",
   "name": "python",
   "nbconvert_exporter": "python",
   "pygments_lexer": "ipython3",
   "version": "3.7.4"
  }
 },
 "nbformat": 4,
 "nbformat_minor": 2
}
